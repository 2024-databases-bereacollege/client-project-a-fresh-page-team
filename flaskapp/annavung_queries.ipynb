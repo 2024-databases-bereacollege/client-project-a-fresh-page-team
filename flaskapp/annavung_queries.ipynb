{
 "cells": [
  {
   "cell_type": "code",
   "execution_count": 5,
   "metadata": {},
   "outputs": [],
   "source": [
    "from peewee import *\n",
    "mydb = PostgresqlDatabase(\"postgres\",host=\"db\",user=\"postgres\",password=\"postgres\")\n",
    "\n",
    "class baseModel(Model):\n",
    "    class Meta:\n",
    "        database = mydb"
   ]
  },
  {
   "cell_type": "code",
   "execution_count": 8,
   "metadata": {},
   "outputs": [],
   "source": [
    "class foodbank(baseModel):\n",
    "    FB_ID = PrimaryKeyField()\n",
    "    username = CharField(20, unique = True)\n",
    "    name_of_org = CharField(100)\n",
    "    primary_contact_name = CharField(100)\n",
    "    phone_num = CharField(100)\n",
    "    address = CharField(255, unique = True)\n",
    "    email = CharField(100)\n",
    "    date_joined = DateField() \n",
    "    city = CharField()\n",
    "    state = CharField()\n",
    "    zip = CharField()\n",
    "\n",
    "class donor (baseModel):\n",
    "    DO_ID = PrimaryKeyField()\n",
    "    username = CharField(20, unique = True)\n",
    "    name_of_org = CharField(100)\n",
    "    type_of_org = CharField(100) \n",
    "    subscribed = BooleanField(default= False) \n",
    "    address = CharField(255, unique = True)\n",
    "    primary_contact_name = CharField(100)\n",
    "    phone_num = CharField(100)\n",
    "    email = CharField(100)\n",
    "    date_joined = DateField()\n",
    "    city = CharField()\n",
    "    state = CharField()\n",
    "    zip = CharField()\n",
    "\n",
    "class donation(baseModel):\n",
    "    DN_ID = PrimaryKeyField()\n",
    "    DO_ID = ForeignKeyField(donor, column_name='DO_ID')\n",
    "    FB_ID = ForeignKeyField(foodbank, column_name='FB_ID')\n",
    "    type_of_donation = CharField(255)\n",
    "    quantity = IntegerField() # in pounds - check with Dr.Page if detailed breakdown of donations are needed, f so, we will create a different table to track quantity\n",
    "    date_donated = DateField()\n",
    "\n",
    "class fb_donation_request(baseModel):\n",
    "    FB_REQ_ID = PrimaryKeyField()\n",
    "    FB_ID = ForeignKeyField(foodbank,column_name='FB_ID')\n",
    "    DO_ID = ForeignKeyField(donor,column_name='DO_ID')\n",
    "    item = CharField(100)\n",
    "    quantity = IntegerField()\n",
    "    date_requested = DateField()\n",
    "    status = CharField(255, default = 'pending') #\n",
    "\n",
    "class do_donation_request(baseModel):\n",
    "    DO_REQ_ID = PrimaryKeyField()\n",
    "    DO_ID = ForeignKeyField(donor,column_name='DO_ID')\n",
    "    FB_ID = ForeignKeyField(foodbank,column_name='FB_ID')\n",
    "    item = CharField(100)\n",
    "    quantity = IntegerField()\n",
    "    date_requested = DateField()\n",
    "    status = CharField(255, default = 'pending')\n",
    "\n",
    "class documentation(baseModel):\n",
    "    DOC_ID = PrimaryKeyField()\n",
    "    DO_ID = ForeignKeyField(donor, null = True, column_name='DO_ID') \n",
    "    FB_ID = ForeignKeyField(foodbank,null = True, column_name='FB_ID') \n",
    "    type_of_documentation = CharField(255)\n",
    "    date_obtained = DateField() \n",
    "    date_valid = DateField()"
   ]
  },
  {
   "cell_type": "code",
   "execution_count": 24,
   "metadata": {},
   "outputs": [
    {
     "data": {
      "text/plain": [
       "<donor: 55214>"
      ]
     },
     "execution_count": 24,
     "metadata": {},
     "output_type": "execute_result"
    }
   ],
   "source": [
    "donor.get(donor.primary_contact_name == 'Jesse Lopez')"
   ]
  }
 ],
 "metadata": {
  "kernelspec": {
   "display_name": "Python 3",
   "language": "python",
   "name": "python3"
  },
  "language_info": {
   "codemirror_mode": {
    "name": "ipython",
    "version": 3
   },
   "file_extension": ".py",
   "mimetype": "text/x-python",
   "name": "python",
   "nbconvert_exporter": "python",
   "pygments_lexer": "ipython3",
   "version": "3.10.13"
  }
 },
 "nbformat": 4,
 "nbformat_minor": 2
}
