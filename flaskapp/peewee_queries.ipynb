{
 "cells": [
  {
   "cell_type": "code",
   "execution_count": 1,
   "metadata": {},
   "outputs": [],
   "source": [
    "from peewee import *\n",
    "mydb = PostgresqlDatabase(\"postgres\",host=\"db\",user=\"postgres\",password=\"postgres\")\n",
    "\n",
    "class baseModel(Model):\n",
    "    class Meta:\n",
    "        database = mydb"
   ]
  },
  {
   "cell_type": "code",
   "execution_count": 2,
   "metadata": {},
   "outputs": [],
   "source": [
    "class foodbank(baseModel):\n",
    "    FB_ID = PrimaryKeyField()\n",
    "    username = CharField(20, unique = True)\n",
    "    name_of_org = CharField(100)\n",
    "    primary_contact_name = CharField(100)\n",
    "    phone_num = CharField(100)\n",
    "    address = CharField(255, unique = True)\n",
    "    email = CharField(100)\n",
    "    date_joined = DateField() \n",
    "    city = CharField()\n",
    "    state = CharField()\n",
    "    zip = CharField()\n",
    "\n",
    "class donor (baseModel):\n",
    "    DO_ID = PrimaryKeyField()\n",
    "    username = CharField(20, unique = True)\n",
    "    name_of_org = CharField(100)\n",
    "    type_of_org = CharField(100) \n",
    "    subscribed = BooleanField(default= False) \n",
    "    address = CharField(255, unique = True)\n",
    "    primary_contact_name = CharField(100)\n",
    "    phone_num = CharField(100)\n",
    "    email = CharField(100)\n",
    "    date_joined = DateField()\n",
    "    city = CharField()\n",
    "    state = CharField()\n",
    "    zip = CharField()\n",
    "\n",
    "class donation(baseModel):\n",
    "    DN_ID = PrimaryKeyField()\n",
    "    DO_ID = ForeignKeyField(donor, column_name='DO_ID')\n",
    "    FB_ID = ForeignKeyField(foodbank, column_name='FB_ID')\n",
    "    type_of_donation = CharField(255)\n",
    "    quantity = IntegerField() # in pounds - check with Dr.Page if detailed breakdown of donations are needed, f so, we will create a different table to track quantity\n",
    "    date_donated = DateField()\n",
    "\n",
    "class fb_donation_request(baseModel):\n",
    "    FB_REQ_ID = PrimaryKeyField()\n",
    "    FB_ID = ForeignKeyField(foodbank,column_name='FB_ID')\n",
    "    DO_ID = ForeignKeyField(donor,column_name='DO_ID')\n",
    "    item = CharField(100)\n",
    "    quantity = IntegerField()\n",
    "    date_requested = DateField()\n",
    "    status = CharField(255, default = 'pending') #\n",
    "\n",
    "class do_donation_request(baseModel):\n",
    "    DO_REQ_ID = PrimaryKeyField()\n",
    "    DO_ID = ForeignKeyField(donor,column_name='DO_ID')\n",
    "    FB_ID = ForeignKeyField(foodbank,column_name='FB_ID')\n",
    "    item = CharField(100)\n",
    "    quantity = IntegerField()\n",
    "    date_requested = DateField()\n",
    "    status = CharField(255, default = 'pending')\n",
    "\n",
    "class documentation(baseModel):\n",
    "    DOC_ID = PrimaryKeyField()\n",
    "    DO_ID = ForeignKeyField(donor, null = True, column_name='DO_ID') \n",
    "    FB_ID = ForeignKeyField(foodbank,null = True, column_name='FB_ID') \n",
    "    type_of_documentation = CharField(255)\n",
    "    date_obtained = DateField() \n",
    "    date_valid = DateField()"
   ]
  },
  {
   "cell_type": "markdown",
   "metadata": {},
   "source": [
    "Anupriya's Queries\n",
    "1. Submit documents. (HIGH) - CREATE"
   ]
  },
  {
   "cell_type": "code",
   "execution_count": 10,
   "metadata": {},
   "outputs": [
    {
     "name": "stdout",
     "output_type": "stream",
     "text": [
      "Food Bank Name:Dictum Limited Donor Name:Turpis Ltd Type of Doc:Finances Date Obtained:2029-05-08 Date Valid:2023-06-23\n",
      "Food Bank Name:Nunc PC Donor Name:Mollis Nec LLC Type of Doc:Licenses Date Obtained:2027-06-21 Date Valid:2024-07-08\n",
      "Food Bank Name:Molestie Tortor PC Donor Name:Dictum Placerat PC Type of Doc:Quality Assurance Date Obtained:2033-07-13 Date Valid:2024-09-18\n",
      "Food Bank Name:Molestie Tortor PC Donor Name:Tellus Sem LLC Type of Doc:Licenses Date Obtained:2026-04-30 Date Valid:2023-11-24\n",
      "Food Bank Name:Arcu Incorporated Donor Name:Gravida PC Type of Doc:Quality Assurance Date Obtained:2027-04-14 Date Valid:2023-06-17\n",
      "Food Bank Name:Eu Eleifend Corporation Donor Name:Magna Suspendisse Associates Type of Doc:Licenses Date Obtained:2033-06-19 Date Valid:2024-02-20\n",
      "Food Bank Name:Molestie Tortor PC Donor Name:Ac Mi PC Type of Doc:Finances Date Obtained:2025-10-11 Date Valid:2023-09-14\n",
      "Food Bank Name:Est Mollis Industries Donor Name:Ipsum Porta Elit PC Type of Doc:Licenses Date Obtained:2029-01-08 Date Valid:2024-08-14\n",
      "Food Bank Name:Eu Eleifend Corporation Donor Name:Hendrerit Consectetuer Cursus PC Type of Doc:Quality Assurance Date Obtained:2028-04-24 Date Valid:2023-10-23\n",
      "Food Bank Name:Arcu Incorporated Donor Name:Metus Aliquam Limited Type of Doc:Finances Date Obtained:2024-09-02 Date Valid:2025-01-07\n"
     ]
    }
   ],
   "source": [
    "#This has already been run so it is already created\n",
    "#Must change the DO_REQ_ID in order for it to be a new insert and it will not give an error\n",
    "#documentation.create(DOC_ID=32567, DO_ID=55378, FB_ID='', type_of_documentation=\"Registration\", date_obtained = '2025-09-09', date_valid='2023-04-21')\n",
    "\n",
    "#This is to make sure that the item is create\n",
    "#It will be visible in the list of donations after it has been successfully created above\n",
    "query = (documentation\n",
    "         .select()\n",
    "         .join(foodbank, on=documentation.FB_ID == foodbank.FB_ID)\n",
    "         .join(donor, on=documentation.DO_ID == donor.DO_ID))\n",
    "for q in query:\n",
    "    print (\"Food Bank Name:{} Donor Name:{} Type of Doc:{} Date Obtained:{} Date Valid:{}\".format(q.FB_ID.name_of_org, q.DO_ID.name_of_org, q.type_of_documentation, q.date_obtained, q.date_valid))"
   ]
  },
  {
   "cell_type": "markdown",
   "metadata": {},
   "source": [
    "2. View details of a document. (HIGH) - READ"
   ]
  },
  {
   "cell_type": "code",
   "execution_count": null,
   "metadata": {},
   "outputs": [],
   "source": []
  },
  {
   "cell_type": "markdown",
   "metadata": {},
   "source": [
    "3. View donation received history. (HIGH) - READ"
   ]
  },
  {
   "cell_type": "code",
   "execution_count": null,
   "metadata": {},
   "outputs": [],
   "source": []
  },
  {
   "cell_type": "markdown",
   "metadata": {},
   "source": [
    "4. View details of a donation. (HIGH) - READ"
   ]
  },
  {
   "cell_type": "code",
   "execution_count": null,
   "metadata": {},
   "outputs": [],
   "source": []
  },
  {
   "cell_type": "markdown",
   "metadata": {},
   "source": [
    "5. Sign up to the website. Insert usernmae, ID, etc. (HIGH) - CREATE"
   ]
  },
  {
   "cell_type": "code",
   "execution_count": null,
   "metadata": {},
   "outputs": [],
   "source": []
  },
  {
   "cell_type": "markdown",
   "metadata": {},
   "source": [
    "Arav's Queries\n",
    "1. View details of donors (phone number/ email/name/ date last donated. (HIGH) - READ"
   ]
  },
  {
   "cell_type": "code",
   "execution_count": null,
   "metadata": {},
   "outputs": [],
   "source": []
  },
  {
   "cell_type": "markdown",
   "metadata": {},
   "source": [
    "2. Search for donors in the area (city/zip code/state). (HIGH) - READ"
   ]
  },
  {
   "cell_type": "code",
   "execution_count": null,
   "metadata": {},
   "outputs": [],
   "source": []
  },
  {
   "cell_type": "markdown",
   "metadata": {},
   "source": [
    "3. Request donations by filling out a form (for donor). (HIGH) - CREATE."
   ]
  },
  {
   "cell_type": "code",
   "execution_count": null,
   "metadata": {},
   "outputs": [],
   "source": []
  },
  {
   "cell_type": "markdown",
   "metadata": {},
   "source": [
    "4. View donation requests made by donors. (HIGH) - READ"
   ]
  },
  {
   "cell_type": "code",
   "execution_count": null,
   "metadata": {},
   "outputs": [],
   "source": []
  },
  {
   "cell_type": "markdown",
   "metadata": {},
   "source": [
    "5. View details of donation requests from donors. (HIGH) - READ"
   ]
  },
  {
   "cell_type": "code",
   "execution_count": null,
   "metadata": {},
   "outputs": [],
   "source": []
  },
  {
   "cell_type": "markdown",
   "metadata": {},
   "source": [
    "Claudia's Queries\n",
    "1. View personal information of a apecific donor. (HIGH) - READ"
   ]
  },
  {
   "cell_type": "code",
   "execution_count": null,
   "metadata": {},
   "outputs": [],
   "source": []
  },
  {
   "cell_type": "markdown",
   "metadata": {},
   "source": [
    "2. Edit personal information. (HIGH) - UPDATE"
   ]
  },
  {
   "cell_type": "code",
   "execution_count": null,
   "metadata": {},
   "outputs": [],
   "source": []
  },
  {
   "cell_type": "markdown",
   "metadata": {},
   "source": [
    "3. Search for details of a document. (HIGH) - READ"
   ]
  },
  {
   "cell_type": "code",
   "execution_count": null,
   "metadata": {},
   "outputs": [],
   "source": []
  },
  {
   "cell_type": "markdown",
   "metadata": {},
   "source": [
    "4. Search for food banks in the area (filter by state/ city/ zip code). (HIGH) - READ"
   ]
  },
  {
   "cell_type": "code",
   "execution_count": null,
   "metadata": {},
   "outputs": [],
   "source": []
  },
  {
   "cell_type": "markdown",
   "metadata": {},
   "source": [
    "5. View details of all food banks. (HIGH) - READ"
   ]
  },
  {
   "cell_type": "code",
   "execution_count": null,
   "metadata": {},
   "outputs": [],
   "source": []
  },
  {
   "cell_type": "markdown",
   "metadata": {},
   "source": [
    "Anna's Queries\n",
    "1. Request to donate by filling out a form. (HIGH) - CREATE"
   ]
  },
  {
   "cell_type": "code",
   "execution_count": 10,
   "metadata": {},
   "outputs": [
    {
     "name": "stdout",
     "output_type": "stream",
     "text": [
      "Food Bank Name:Nunc PC Donor Name:Turpis Ltd Item:hats Quantity:5 Date Requested:2023-11-26\n",
      "Food Bank Name:Est Mollis Industries Donor Name:Turpis Ltd Item:oranges Quantity:9 Date Requested:2024-02-01\n",
      "Food Bank Name:Est Mollis Industries Donor Name:Hendrerit Consectetuer Cursus PC Item:grapes Quantity:9 Date Requested:2024-04-05\n",
      "Food Bank Name:Est Mollis Industries Donor Name:Hendrerit Consectetuer Cursus PC Item:watermelon Quantity:9 Date Requested:2024-04-05\n",
      "Food Bank Name:Est Mollis Industries Donor Name:Hendrerit Consectetuer Cursus PC Item:melons Quantity:9 Date Requested:2024-04-05\n"
     ]
    }
   ],
   "source": [
    "#This has already been run so it is already created\n",
    "#Must change the DO_REQ_ID in order for it to be a new insert and it will not give an error\n",
    "do_donation_request.create(DO_REQ_ID=13335, DO_ID=52309, FB_ID=18607, item=\"melons\", quantity = 9, status=\"pending\", date_requested=\"2024-04-05\")\n",
    "\n",
    "#This is to make sure that the item is create\n",
    "#It will be visible in the list of donations after it has been successfully created above\n",
    "query = (do_donation_request\n",
    "         .select()\n",
    "         .join(foodbank, on=do_donation_request.FB_ID == foodbank.FB_ID)\n",
    "         .join(donor, on=do_donation_request.DO_ID == donor.DO_ID))\n",
    "for q in query:\n",
    "    print (\"Food Bank Name:{} Donor Name:{} Item:{} Quantity:{} Date Requested:{}\".format(q.FB_ID.name_of_org, q.DO_ID.name_of_org, q.item, q.quantity, q.date_requested))\n"
   ]
  },
  {
   "cell_type": "markdown",
   "metadata": {},
   "source": [
    "2. Accept/decline to make a donation (foodbanks can ask donors who have donated before to donate again). (HIGH) - UPDATE"
   ]
  },
  {
   "cell_type": "code",
   "execution_count": 133,
   "metadata": {},
   "outputs": [
    {
     "name": "stdout",
     "output_type": "stream",
     "text": [
      "FB_REQ_ID: 0 Food Bank ID: 84134 Donor ID: 36580 Date Requested: 2021-12-01 Status: accepted\n"
     ]
    },
    {
     "data": {
      "text/plain": [
       "1"
      ]
     },
     "execution_count": 133,
     "metadata": {},
     "output_type": "execute_result"
    }
   ],
   "source": [
    "#If a request was accepted by a donor\n",
    "row=fb_donation_request.get(fb_donation_request.FB_REQ_ID == 00000)\n",
    "print (\"FB_REQ_ID: {} Food Bank ID: {} Donor ID: {} Date Requested: {} Status: {}\".format(row.FB_REQ_ID, row.FB_ID, row.DO_ID, row.date_requested, row.status))\n",
    "row.status = \"accepted\"\n",
    "row.save()\n"
   ]
  },
  {
   "cell_type": "code",
   "execution_count": 135,
   "metadata": {},
   "outputs": [
    {
     "name": "stdout",
     "output_type": "stream",
     "text": [
      "FB_REQ_ID: 0 Food Bank ID: 84134 Donor ID: 36580 Date Requested: 2021-12-01 Status: declined\n"
     ]
    },
    {
     "data": {
      "text/plain": [
       "1"
      ]
     },
     "execution_count": 135,
     "metadata": {},
     "output_type": "execute_result"
    }
   ],
   "source": [
    "#If a request was declined by a donor\n",
    "row=fb_donation_request.get(fb_donation_request.FB_REQ_ID == 00000)\n",
    "print (\"FB_REQ_ID: {} Food Bank ID: {} Donor ID: {} Date Requested: {} Status: {}\".format(row.FB_REQ_ID, row.FB_ID, row.DO_ID, row.date_requested, row.status))\n",
    "row.status = \"declined\"\n",
    "row.save()"
   ]
  },
  {
   "cell_type": "markdown",
   "metadata": {},
   "source": [
    "3. View donation requests from food banks. (HIGH) - READ"
   ]
  },
  {
   "cell_type": "code",
   "execution_count": 126,
   "metadata": {},
   "outputs": [
    {
     "name": "stdout",
     "output_type": "stream",
     "text": [
      "Food Bank Name:Dictum Limited Donor Name:Mollis Nec LLC Item:shoes Quantity:3 Date Requested:2021-12-01\n",
      "Food Bank Name:Libero Est LLP Donor Name:Mollis Nec LLC Item:apples Quantity:50 Date Requested:2022-11-01\n"
     ]
    }
   ],
   "source": [
    "#This shows the records in in the fb_donation_request, which are all requests made by food banks to a specfic past donor\n",
    "#It displays the name of the food bank, the donor they requested donations from, the item, quantity, and when they requested\n",
    "query = (fb_donation_request\n",
    "         .select()\n",
    "         .join(foodbank, on=fb_donation_request.FB_ID == foodbank.FB_ID)\n",
    "         .join(donor, on=fb_donation_request.DO_ID == donor.DO_ID))\n",
    "for q in query:\n",
    "    print (\"Food Bank Name:{} Donor Name:{} Item:{} Quantity:{} Date Requested:{}\".format(q.FB_ID.name_of_org, q.DO_ID.name_of_org, q.item, q.quantity, q.date_requested))"
   ]
  },
  {
   "cell_type": "markdown",
   "metadata": {},
   "source": [
    "4. View details of a donation requested by a food bank. (HIGH) - READ"
   ]
  },
  {
   "cell_type": "code",
   "execution_count": 125,
   "metadata": {},
   "outputs": [
    {
     "name": "stdout",
     "output_type": "stream",
     "text": [
      "Food Bank Name:Dictum Limited Donor Name:Mollis Nec LLC Item:shoes Quantity:3 Date Requested:2021-12-01\n"
     ]
    }
   ],
   "source": [
    "#This shows the details of a specifc donation request that was made by a food bank to a donor\n",
    "#This is similar to the previous one, except it has a where condition\n",
    "query = (fb_donation_request\n",
    "         .select()\n",
    "         .join(foodbank, on=fb_donation_request.FB_ID == foodbank.FB_ID)\n",
    "         .join(donor, on=fb_donation_request.DO_ID == donor.DO_ID)\n",
    "         .where (foodbank.name_of_org == 'Dictum Limited'))\n",
    "for q in query:\n",
    "    print (\"Food Bank Name:{} Donor Name:{} Item:{} Quantity:{} Date Requested:{}\".format(q.FB_ID.name_of_org, q.DO_ID.name_of_org, q.item, q.quantity, q.date_requested))"
   ]
  },
  {
   "cell_type": "markdown",
   "metadata": {},
   "source": [
    "5. View personal information of a food bank or a donor. (HIGH) - READ"
   ]
  },
  {
   "cell_type": "code",
   "execution_count": 19,
   "metadata": {},
   "outputs": [
    {
     "name": "stdout",
     "output_type": "stream",
     "text": [
      "Name of Org: Dictum Limited Primary Contact Name: Gavin Olsen City: New York State: NY Zip: 10001\n",
      "Name of Org: Nunc PC Primary Contact Name: Omar Compton City: Los Angeles State: CA Zip: 90001\n",
      "Name of Org: Libero Est LLP Primary Contact Name: Ciara Hopper City: Chicago State: IL Zip: 60601\n",
      "Name of Org: Arcu Incorporated Primary Contact Name: Savannah Brennan City: Houston State: TX Zip: 77001\n",
      "Name of Org: Lacus Ut Ltd Primary Contact Name: Eaton Cote City: Phoenix State: AZ Zip: 85001\n",
      "Name of Org: Nullam Suscipit Est Company Primary Contact Name: Preston Melton City: Philadelphia State: PA Zip: 19019\n",
      "Name of Org: Eu Eleifend Corporation Primary Contact Name: Sonia Petty City: San Antonio State: TX Zip: 78201\n",
      "Name of Org: Ligula Tortor Limited Primary Contact Name: Pandora Landry City: San Diego State: CA Zip: 92101\n",
      "Name of Org: Molestie Tortor PC Primary Contact Name: Valentine Figueroa City: Dallas State: TX Zip: 75201\n",
      "Name of Org: Est Mollis Industries Primary Contact Name: Kaitlin Serrano City: San Jose State: CA Zip: 95101\n"
     ]
    }
   ],
   "source": [
    "#food bank information\n",
    "rows=foodbank.select()\n",
    "for row in rows:\n",
    "   print (\"Name of Org: {} Primary Contact Name: {} City: {} State: {} Zip: {}\".format(row.name_of_org, row.primary_contact_name, row.city, row.state, row.zip))"
   ]
  },
  {
   "cell_type": "code",
   "execution_count": 21,
   "metadata": {},
   "outputs": [
    {
     "name": "stdout",
     "output_type": "stream",
     "text": [
      "Name of Org: Turpis Ltd Type of Org: Individual Primary Contact Name: Jesse Lopez Subscribed True City: New York State: NY Zip: 10001\n",
      "Name of Org: Mollis Nec LLC Type of Org: Individual Primary Contact Name: Angelica Barnes Subscribed False City: Los Angeles State: CA Zip: 90001\n",
      "Name of Org: Gravida PC Type of Org: Individual Primary Contact Name: Naida Cash Subscribed True City: Chicago State: IL Zip: 60601\n",
      "Name of Org: Magna Suspendisse Associates Type of Org: Organisation Primary Contact Name: Boris Hines Subscribed False City: Houston State: TX Zip: 77001\n",
      "Name of Org: Dictum Placerat PC Type of Org: Individual Primary Contact Name: Hedy Frye Subscribed True City: Phoenix State: AZ Zip: 85001\n",
      "Name of Org: Tellus Sem LLC Type of Org: Organisation Primary Contact Name: Hiram Reid Subscribed False City: Philadelphia State: PA Zip: 19019\n",
      "Name of Org: Ipsum Porta Elit PC Type of Org: Organisation Primary Contact Name: Elton Melendez Subscribed False City: San Antonio State: TX Zip: 78201\n",
      "Name of Org: Ac Mi PC Type of Org: Individual Primary Contact Name: Dai Merrill Subscribed False City: San Diego State: CA Zip: 92101\n",
      "Name of Org: Hendrerit Consectetuer Cursus PC Type of Org: Organisation Primary Contact Name: Aspen Weaver Subscribed False City: Dallas State: TX Zip: 75201\n",
      "Name of Org: Metus Aliquam Limited Type of Org: Individual Primary Contact Name: Lael Skinner Subscribed False City: San Jose State: CA Zip: 95101\n"
     ]
    }
   ],
   "source": [
    "#donor information\n",
    "rows=donor.select()\n",
    "for row in rows:\n",
    "   print (\"Name of Org: {} Type of Org: {} Primary Contact Name: {} Subscribed: {} City: {} State: {} Zip: {}\".format(row.name_of_org, row.type_of_org, row.primary_contact_name, row.subscribed, row.city, row.state, row.zip))\n"
   ]
  }
 ],
 "metadata": {
  "kernelspec": {
   "display_name": "Python 3",
   "language": "python",
   "name": "python3"
  },
  "language_info": {
   "codemirror_mode": {
    "name": "ipython",
    "version": 3
   },
   "file_extension": ".py",
   "mimetype": "text/x-python",
   "name": "python",
   "nbconvert_exporter": "python",
   "pygments_lexer": "ipython3",
   "version": "3.10.13"
  }
 },
 "nbformat": 4,
 "nbformat_minor": 2
}
