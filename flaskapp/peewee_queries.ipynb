{
 "cells": [
  {
   "cell_type": "code",
   "execution_count": 1,
   "metadata": {},
   "outputs": [],
   "source": [
    "from peewee import *\n",
    "mydb = PostgresqlDatabase(\"postgres\",host=\"db\",user=\"postgres\",password=\"postgres\")\n",
    "\n",
    "class baseModel(Model):\n",
    "    class Meta:\n",
    "        database = mydb"
   ]
  },
  {
   "cell_type": "code",
   "execution_count": 2,
   "metadata": {},
   "outputs": [],
   "source": [
    "class foodbank(baseModel):\n",
    "    FB_ID = PrimaryKeyField()\n",
    "    username = CharField(20, unique = True)\n",
    "    name_of_org = CharField(100)\n",
    "    primary_contact_name = CharField(100)\n",
    "    phone_num = CharField(100)\n",
    "    address = CharField(255, unique = True)\n",
    "    email = CharField(100)\n",
    "    date_joined = DateField() \n",
    "    city = CharField()\n",
    "    state = CharField()\n",
    "    zip = CharField()\n",
    "\n",
    "class donor (baseModel):\n",
    "    DO_ID = PrimaryKeyField()\n",
    "    username = CharField(20, unique = True)\n",
    "    name_of_org = CharField(100)\n",
    "    type_of_org = CharField(100) \n",
    "    subscribed = BooleanField(default= False) \n",
    "    address = CharField(255, unique = True)\n",
    "    primary_contact_name = CharField(100)\n",
    "    phone_num = CharField(100)\n",
    "    email = CharField(100)\n",
    "    date_joined = DateField()\n",
    "    city = CharField()\n",
    "    state = CharField()\n",
    "    zip = CharField()\n",
    "\n",
    "class donation(baseModel):\n",
    "    DN_ID = PrimaryKeyField()\n",
    "    DO_ID = ForeignKeyField(donor, column_name='DO_ID')\n",
    "    FB_ID = ForeignKeyField(foodbank, column_name='FB_ID')\n",
    "    type_of_donation = CharField(255)\n",
    "    quantity = IntegerField() # in pounds - check with Dr.Page if detailed breakdown of donations are needed, f so, we will create a different table to track quantity\n",
    "    date_donated = DateField()\n",
    "\n",
    "class fb_donation_request(baseModel):\n",
    "    FB_REQ_ID = PrimaryKeyField()\n",
    "    FB_ID = ForeignKeyField(foodbank,column_name='FB_ID')\n",
    "    DO_ID = ForeignKeyField(donor,column_name='DO_ID')\n",
    "    item = CharField(100)\n",
    "    quantity = IntegerField()\n",
    "    date_requested = DateField()\n",
    "    status = CharField(255, default = 'pending') #\n",
    "\n",
    "class do_donation_request(baseModel):\n",
    "    DO_REQ_ID = PrimaryKeyField()\n",
    "    DO_ID = ForeignKeyField(donor,column_name='DO_ID')\n",
    "    FB_ID = ForeignKeyField(foodbank,column_name='FB_ID')\n",
    "    item = CharField(100)\n",
    "    quantity = IntegerField()\n",
    "    date_requested = DateField()\n",
    "    status = CharField(255, default = 'pending')\n",
    "\n",
    "class documentation(baseModel):\n",
    "    DOC_ID = PrimaryKeyField()\n",
    "    DO_ID = ForeignKeyField(donor, null = True, column_name='DO_ID') \n",
    "    FB_ID = ForeignKeyField(foodbank,null = True, column_name='FB_ID') \n",
    "    type_of_documentation = CharField(255)\n",
    "    date_obtained = DateField() \n",
    "    date_valid = DateField()"
   ]
  },
  {
   "cell_type": "markdown",
   "metadata": {},
   "source": [
    "1. Submit documents. (HIGH) - CREATE"
   ]
  },
  {
   "cell_type": "code",
   "execution_count": 26,
   "metadata": {},
   "outputs": [
    {
     "name": "stdout",
     "output_type": "stream",
     "text": [
      "DOC_ID: 32128 Food Bank Name:Dictum Limited Donor Name:Turpis Ltd Type of Doc:Finances Date Obtained:2029-05-08 Date Valid:2023-06-23\n",
      "DOC_ID: 69644 Food Bank Name:Nunc PC Donor Name:Mollis Nec LLC Type of Doc:Licenses Date Obtained:2027-06-21 Date Valid:2024-07-08\n",
      "DOC_ID: 25464 Food Bank Name:Molestie Tortor PC Donor Name:Dictum Placerat PC Type of Doc:Quality Assurance Date Obtained:2033-07-13 Date Valid:2024-09-18\n",
      "DOC_ID: 70638 Food Bank Name:Molestie Tortor PC Donor Name:Tellus Sem LLC Type of Doc:Licenses Date Obtained:2026-04-30 Date Valid:2023-11-24\n",
      "DOC_ID: 56902 Food Bank Name:Arcu Incorporated Donor Name:Gravida PC Type of Doc:Quality Assurance Date Obtained:2027-04-14 Date Valid:2023-06-17\n",
      "DOC_ID: 13906 Food Bank Name:Eu Eleifend Corporation Donor Name:Magna Suspendisse Associates Type of Doc:Licenses Date Obtained:2033-06-19 Date Valid:2024-02-20\n",
      "DOC_ID: 65680 Food Bank Name:Molestie Tortor PC Donor Name:Ac Mi PC Type of Doc:Finances Date Obtained:2025-10-11 Date Valid:2023-09-14\n",
      "DOC_ID: 11174 Food Bank Name:Est Mollis Industries Donor Name:Ipsum Porta Elit PC Type of Doc:Licenses Date Obtained:2029-01-08 Date Valid:2024-08-14\n",
      "DOC_ID: 66381 Food Bank Name:Eu Eleifend Corporation Donor Name:Hendrerit Consectetuer Cursus PC Type of Doc:Quality Assurance Date Obtained:2028-04-24 Date Valid:2023-10-23\n",
      "DOC_ID: 28244 Food Bank Name:Arcu Incorporated Donor Name:Metus Aliquam Limited Type of Doc:Finances Date Obtained:2024-09-02 Date Valid:2025-01-07\n",
      "DOC_ID: 33331 Food Bank Name:Dictum Limited Donor Name:Turpis Ltd Type of Doc:Registration Date Obtained:2025-09-09 Date Valid:2023-04-21\n"
     ]
    }
   ],
   "source": [
    "#This is created after it is run once\n",
    "#Must change the DOC__ID in order for it to be a new insert and it will not give an error\n",
    "#OR just comment this line out to see if the info exist\n",
    "documentation.create(DOC_ID=33331, DO_ID=55214, FB_ID=84134, type_of_documentation='Registration', date_obtained = '2025-09-09', date_valid='2023-04-21')\n",
    "\n",
    "#This is to make sure that the item is created\n",
    "#It will be visible in the list of documentations after it has been successfully created above\n",
    "query = (documentation\n",
    "         .select()\n",
    "         .join(foodbank, on=documentation.FB_ID == foodbank.FB_ID)\n",
    "         .join(donor, on=documentation.DO_ID == donor.DO_ID))\n",
    "for q in query:\n",
    "    print (\"DOC_ID: {} Food Bank Name:{} Donor Name:{} Type of Doc:{} Date Obtained:{} Date Valid:{}\".format(q.DOC_ID, q.FB_ID.name_of_org, q.DO_ID.name_of_org, q.type_of_documentation, q.date_obtained, q.date_valid))"
   ]
  },
  {
   "cell_type": "markdown",
   "metadata": {},
   "source": [
    "2. View details of all document. (HIGH) - READ"
   ]
  },
  {
   "cell_type": "code",
   "execution_count": 27,
   "metadata": {},
   "outputs": [
    {
     "name": "stdout",
     "output_type": "stream",
     "text": [
      "DOC_ID: 32128 Food Bank Name:Dictum Limited Donor Name:Turpis Ltd Type of Doc:Finances Date Obtained:2029-05-08 Date Valid:2023-06-23\n",
      "DOC_ID: 69644 Food Bank Name:Nunc PC Donor Name:Mollis Nec LLC Type of Doc:Licenses Date Obtained:2027-06-21 Date Valid:2024-07-08\n",
      "DOC_ID: 25464 Food Bank Name:Molestie Tortor PC Donor Name:Dictum Placerat PC Type of Doc:Quality Assurance Date Obtained:2033-07-13 Date Valid:2024-09-18\n",
      "DOC_ID: 70638 Food Bank Name:Molestie Tortor PC Donor Name:Tellus Sem LLC Type of Doc:Licenses Date Obtained:2026-04-30 Date Valid:2023-11-24\n",
      "DOC_ID: 56902 Food Bank Name:Arcu Incorporated Donor Name:Gravida PC Type of Doc:Quality Assurance Date Obtained:2027-04-14 Date Valid:2023-06-17\n",
      "DOC_ID: 13906 Food Bank Name:Eu Eleifend Corporation Donor Name:Magna Suspendisse Associates Type of Doc:Licenses Date Obtained:2033-06-19 Date Valid:2024-02-20\n",
      "DOC_ID: 65680 Food Bank Name:Molestie Tortor PC Donor Name:Ac Mi PC Type of Doc:Finances Date Obtained:2025-10-11 Date Valid:2023-09-14\n",
      "DOC_ID: 11174 Food Bank Name:Est Mollis Industries Donor Name:Ipsum Porta Elit PC Type of Doc:Licenses Date Obtained:2029-01-08 Date Valid:2024-08-14\n",
      "DOC_ID: 66381 Food Bank Name:Eu Eleifend Corporation Donor Name:Hendrerit Consectetuer Cursus PC Type of Doc:Quality Assurance Date Obtained:2028-04-24 Date Valid:2023-10-23\n",
      "DOC_ID: 28244 Food Bank Name:Arcu Incorporated Donor Name:Metus Aliquam Limited Type of Doc:Finances Date Obtained:2024-09-02 Date Valid:2025-01-07\n",
      "DOC_ID: 33331 Food Bank Name:Dictum Limited Donor Name:Turpis Ltd Type of Doc:Registration Date Obtained:2025-09-09 Date Valid:2023-04-21\n"
     ]
    }
   ],
   "source": [
    "#Displays the details of all documents in documentation\n",
    "query = (documentation\n",
    "         .select()\n",
    "         .join(foodbank, on=documentation.FB_ID == foodbank.FB_ID)\n",
    "         .join(donor, on=documentation.DO_ID == donor.DO_ID))\n",
    "for q in query:\n",
    "    print (\"DOC_ID: {} Food Bank Name:{} Donor Name:{} Type of Doc:{} Date Obtained:{} Date Valid:{}\".format(q.DOC_ID, q.FB_ID.name_of_org, q.DO_ID.name_of_org, q.type_of_documentation, q.date_obtained, q.date_valid))"
   ]
  },
  {
   "cell_type": "markdown",
   "metadata": {},
   "source": [
    "3. View donation received history. (HIGH) - READ"
   ]
  },
  {
   "cell_type": "code",
   "execution_count": 28,
   "metadata": {},
   "outputs": [
    {
     "name": "stdout",
     "output_type": "stream",
     "text": [
      "Donation ID: 37828 Donor Name:Metus Aliquam Limited Food Bank Name:Est Mollis Industries Type of Donation:pies Quantity:3 Date Donated:2023-12-23\n",
      "Donation ID: 31474 Donor Name:Ac Mi PC Food Bank Name:Nunc PC Type of Donation:sandwiches Quantity:0 Date Donated:2023-07-03\n",
      "Donation ID: 30178 Donor Name:Metus Aliquam Limited Food Bank Name:Eu Eleifend Corporation Type of Donation:pies Quantity:3 Date Donated:2023-10-04\n",
      "Donation ID: 16415 Donor Name:Metus Aliquam Limited Food Bank Name:Arcu Incorporated Type of Donation:pasta Quantity:10 Date Donated:2024-08-26\n",
      "Donation ID: 80595 Donor Name:Tellus Sem LLC Food Bank Name:Arcu Incorporated Type of Donation:sandwiches Quantity:5 Date Donated:2023-11-11\n",
      "Donation ID: 27209 Donor Name:Mollis Nec LLC Food Bank Name:Molestie Tortor PC Type of Donation:soups Quantity:9 Date Donated:2023-10-12\n",
      "Donation ID: 33177 Donor Name:Ipsum Porta Elit PC Food Bank Name:Molestie Tortor PC Type of Donation:noodles Quantity:6 Date Donated:2024-12-08\n",
      "Donation ID: 87051 Donor Name:Turpis Ltd Food Bank Name:Dictum Limited Type of Donation:noodles Quantity:6 Date Donated:2023-09-11\n",
      "Donation ID: 48349 Donor Name:Magna Suspendisse Associates Food Bank Name:Dictum Limited Type of Donation:pies Quantity:9 Date Donated:2023-12-14\n",
      "Donation ID: 15100 Donor Name:Gravida PC Food Bank Name:Nullam Suscipit Est Company Type of Donation:sandwiches Quantity:8 Date Donated:2024-08-04\n"
     ]
    }
   ],
   "source": [
    "#View a list of all the donations that has been completed along with their details\n",
    "query = (donation\n",
    "         .select()\n",
    "         .join(foodbank, on=donation.FB_ID == foodbank.FB_ID)\n",
    "         .join(donor, on=donation.DO_ID == donor.DO_ID))\n",
    "for q in query:\n",
    "    print (\"Donation ID: {} Donor Name:{} Food Bank Name:{} Type of Donation:{} Quantity:{} Date Donated:{}\".format(q.DN_ID, q.DO_ID.name_of_org, q.FB_ID.name_of_org, q.type_of_donation, q.quantity, q.date_donated))"
   ]
  },
  {
   "cell_type": "markdown",
   "metadata": {},
   "source": [
    "4. View details of a donation. (HIGH) - READ"
   ]
  },
  {
   "cell_type": "code",
   "execution_count": 29,
   "metadata": {},
   "outputs": [
    {
     "name": "stdout",
     "output_type": "stream",
     "text": [
      "Donation ID: 37828 Donor Name:Metus Aliquam Limited Food Bank Name:Est Mollis Industries Type of Donation:pies Quantity:3 Date Donated:2023-12-23\n"
     ]
    }
   ],
   "source": [
    "#Same as the above query, except this is for one specific donation\n",
    "query = (donation\n",
    "         .select()\n",
    "         .join(foodbank, on=donation.FB_ID == foodbank.FB_ID)\n",
    "         .join(donor, on=donation.DO_ID == donor.DO_ID)\n",
    "         .where (donation.DN_ID == 37828))\n",
    "for q in query:\n",
    "    print (\"Donation ID: {} Donor Name:{} Food Bank Name:{} Type of Donation:{} Quantity:{} Date Donated:{}\".format(q.DN_ID, q.DO_ID.name_of_org, q.FB_ID.name_of_org, q.type_of_donation, q.quantity, q.date_donated))"
   ]
  },
  {
   "cell_type": "markdown",
   "metadata": {},
   "source": [
    "5. Sign up to the website. Insert usernmae, ID, etc. (HIGH) - CREATE"
   ]
  },
  {
   "cell_type": "code",
   "execution_count": 32,
   "metadata": {},
   "outputs": [
    {
     "name": "stdout",
     "output_type": "stream",
     "text": [
      "DO_ID: 55214 Donor Name:Turpis Ltd Donor Primary Contact Name:Jesse Lopez Type Of Org:Individual Subscribed :True\n",
      "DO_ID: 36580 Donor Name:Mollis Nec LLC Donor Primary Contact Name:Angelica Barnes Type Of Org:Individual Subscribed :True\n",
      "DO_ID: 93180 Donor Name:Gravida PC Donor Primary Contact Name:Naida Cash Type Of Org:Individual Subscribed :True\n",
      "DO_ID: 44241 Donor Name:Magna Suspendisse Associates Donor Primary Contact Name:Boris Hines Type Of Org:Organisation Subscribed :True\n",
      "DO_ID: 79989 Donor Name:Dictum Placerat PC Donor Primary Contact Name:Hedy Frye Type Of Org:Individual Subscribed :True\n",
      "DO_ID: 60159 Donor Name:Tellus Sem LLC Donor Primary Contact Name:Hiram Reid Type Of Org:Organisation Subscribed :True\n",
      "DO_ID: 63353 Donor Name:Ipsum Porta Elit PC Donor Primary Contact Name:Elton Melendez Type Of Org:Organisation Subscribed :True\n",
      "DO_ID: 85314 Donor Name:Ac Mi PC Donor Primary Contact Name:Dai Merrill Type Of Org:Individual Subscribed :True\n",
      "DO_ID: 52309 Donor Name:Hendrerit Consectetuer Cursus PC Donor Primary Contact Name:Aspen Weaver Type Of Org:Organisation Subscribed :True\n",
      "DO_ID: 35740 Donor Name:Metus Aliquam Limited Donor Primary Contact Name:Lael Skinner Type Of Org:Individual Subscribed :True\n",
      "DO_ID: 52389 Donor Name:Karina_Lumaru Donor Primary Contact Name:Karina Lumaru Type Of Org:Individual Subscribed :True\n"
     ]
    }
   ],
   "source": [
    "#User data will be created so that they can log in with an existing username\n",
    "#Donor account creation\n",
    "donor.create(DO_ID=52389, username='karina_lumaru', name_of_org='Karina_Lumaru', primary_contact_name='Karina Lumaru', phone_num='1-510-778-2257', address='190 Ferri St 1234', email='k_lumaru@gmail.com', city='Berea', state='KY', zip='40404', date_joined='2023-07-09', type_of_org='Individual', subscribed='Yes')\n",
    "\n",
    "#This is to make sure that the item is created\n",
    "#It will be visible in the list of donors after it has been successfully created above\n",
    "query = (donor\n",
    "         .select())\n",
    "for q in query:\n",
    "    print (\"DO_ID: {} Donor Name:{} Donor Primary Contact Name:{} Type Of Org:{} Subscribed :{}\".format(q.DO_ID, q.name_of_org, q.primary_contact_name, q.type_of_org, q.subscribed))"
   ]
  },
  {
   "cell_type": "code",
   "execution_count": 5,
   "metadata": {},
   "outputs": [
    {
     "name": "stdout",
     "output_type": "stream",
     "text": [
      "FB_ID: 84134 Username:fb_user84134 Name Of Org: Dictum Limited Donor Primary Contact Name:Gavin Olsen Phone Num: (805) 811-5218 Address: 1721 Nascetur Av. Email: curabitur.sed@google.edu City: New York State: NY Zip Code: 10001 Date Joined:2024-04-13\n",
      "FB_ID: 44204 Username:fb_user44204 Name Of Org: Nunc PC Donor Primary Contact Name:Omar Compton Phone Num: (495) 487-2527 Address: P.O. Box 394, 9121 Adipiscing Rd. Email: tristique.senectus@outlook.couk City: Los Angeles State: CA Zip Code: 90001 Date Joined:2025-03-23\n",
      "FB_ID: 14789 Username:fb_user14789 Name Of Org: Libero Est LLP Donor Primary Contact Name:Ciara Hopper Phone Num: (305) 451-8544 Address: 8525 Praesent Road Email: rutrum@icloud.com City: Chicago State: IL Zip Code: 60601 Date Joined:2023-10-31\n",
      "FB_ID: 90226 Username:fb_user90226 Name Of Org: Arcu Incorporated Donor Primary Contact Name:Savannah Brennan Phone Num: 1-975-967-4234 Address: 891-8625 Eleifend Street Email: sed.libero.proin@aol.edu City: Houston State: TX Zip Code: 77001 Date Joined:2023-11-30\n",
      "FB_ID: 95899 Username:fb_user95899 Name Of Org: Lacus Ut Ltd Donor Primary Contact Name:Eaton Cote Phone Num: (628) 573-3280 Address: 851-4808 Viverra. Avenue Email: nulla.integer@yahoo.couk City: Phoenix State: AZ Zip Code: 85001 Date Joined:2023-07-30\n",
      "FB_ID: 49917 Username:fb_user49917 Name Of Org: Nullam Suscipit Est Company Donor Primary Contact Name:Preston Melton Phone Num: (691) 589-7369 Address: 478-8401 Lorem, Rd. Email: nec@google.org City: Philadelphia State: PA Zip Code: 19019 Date Joined:2023-12-24\n",
      "FB_ID: 60551 Username:fb_user60551 Name Of Org: Eu Eleifend Corporation Donor Primary Contact Name:Sonia Petty Phone Num: (777) 451-0807 Address: 685-5050 Etiam Ave Email: nec.metus@google.couk City: San Antonio State: TX Zip Code: 78201 Date Joined:2023-08-18\n",
      "FB_ID: 71474 Username:fb_user71474 Name Of Org: Ligula Tortor Limited Donor Primary Contact Name:Pandora Landry Phone Num: 1-921-357-7113 Address: 945-2142 Mauris Av. Email: sapien.cursus@hotmail.edu City: San Diego State: CA Zip Code: 92101 Date Joined:2024-09-30\n",
      "FB_ID: 31557 Username:fb_user58335 Name Of Org: Molestie Tortor PC Donor Primary Contact Name:Valentine Figueroa Phone Num: 1-446-684-2218 Address: P.O. Box 650, 4463 Feugiat Road Email: ornare.facilisis@protonmail.edu City: Dallas State: TX Zip Code: 75201 Date Joined:2023-09-25\n",
      "FB_ID: 18607 Username:fb_user85300 Name Of Org: Est Mollis Industries Donor Primary Contact Name:Kaitlin Serrano Phone Num: (528) 516-5768 Address: 594-8395 Est St. Email: nonummy.ultricies@outlook.net City: San Jose State: CA Zip Code: 95101 Date Joined:2023-11-24\n",
      "FB_ID: 84890 Username:fb_user84890 Name Of Org: Creative Limited Donor Primary Contact Name:Anna Luis Phone Num: (805) 855-8902 Address: 1721 Oliver Av. Email: lame.email@google.org City: Berea State: KY Zip Code: 40404 Date Joined:2024-03-23\n"
     ]
    }
   ],
   "source": [
    "#User data will be created so that they can log in with an existing username\n",
    "#Food bank account creation\n",
    "#It can only be created once so it gives error after it run once\n",
    "# COmment this part out after running once to see it in the results of food banks\n",
    "foodbank.create(FB_ID=84890, username='fb_user84890', name_of_org='Creative Limited', primary_contact_name='Anna Luis', phone_num='(805) 855-8902', address='1721 Oliver Av.', email='lame.email@google.org', city='Berea', state='KY', zip='40404', date_joined='2024-03-23')\n",
    "\n",
    "#This is to make sure that the item is created\n",
    "#It will be visible in the list of food banks after it has been successfully created above\n",
    "query = (foodbank\n",
    "         .select())\n",
    "for q in query:\n",
    "    print (\"FB_ID: {} Username:{} Name Of Org: {} Donor Primary Contact Name:{} Phone Num: {} Address: {} Email: {} City: {} State: {} Zip Code: {} Date Joined:{}\".format(q.FB_ID, q.username, q.name_of_org, q.primary_contact_name,q.phone_num, q.address,q.email, q.city, q.state, q.zip, q.date_joined))"
   ]
  },
  {
   "cell_type": "markdown",
   "metadata": {},
   "source": [
    "6. View details of all donors (phone number/ email/name/ date joined. (HIGH) - READ"
   ]
  },
  {
   "cell_type": "code",
   "execution_count": 34,
   "metadata": {},
   "outputs": [
    {
     "name": "stdout",
     "output_type": "stream",
     "text": [
      "Donor Phone Number: 1-510-766-9562 Donor Primary Contact Person:Jesse Lopez Food Address:P.O. Box 966, 174 Nec, St. Donor Email:eu.turpis@hotmail.net Date Joined:2023-05-02\n",
      "Donor Phone Number: 1-644-561-3419 Donor Primary Contact Person:Angelica Barnes Food Address:Ap #897-4039 Diam. Rd. Donor Email:donec.sollicitudin@outlook.ca Date Joined:2024-02-24\n",
      "Donor Phone Number: (284) 430-8637 Donor Primary Contact Person:Naida Cash Food Address:176-7009 Et, Road Donor Email:elit.erat@yahoo.co.uk Date Joined:2023-04-26\n",
      "Donor Phone Number: 1-684-837-5382 Donor Primary Contact Person:Boris Hines Food Address:Ap #680-6297 Ac Av. Donor Email:donec.tincidunt@google.net Date Joined:2023-05-19\n",
      "Donor Phone Number: 1-251-352-9093 Donor Primary Contact Person:Hedy Frye Food Address:219-3578 Erat. Ave Donor Email:donec.elementum@outlook.com Date Joined:2024-05-26\n",
      "Donor Phone Number: (232) 837-8646 Donor Primary Contact Person:Hiram Reid Food Address:P.O. Box 370, 9694 Purus, Ave Donor Email:velit.eget@yahoo.ca Date Joined:2024-06-02\n",
      "Donor Phone Number: 1-187-127-8675 Donor Primary Contact Person:Elton Melendez Food Address:P.O. Box 477, 1799 Hendrerit Rd. Donor Email:gravida@aol.co.uk Date Joined:2024-06-19\n",
      "Donor Phone Number: 1-586-475-8805 Donor Primary Contact Person:Dai Merrill Food Address:828-5700 Turpis. Ave Donor Email:vitae@protonmail.co.uk Date Joined:2024-06-19\n",
      "Donor Phone Number: (466) 332-1228 Donor Primary Contact Person:Aspen Weaver Food Address:859-2853 Nec, Rd. Donor Email:cras.dolor@protonmail.net Date Joined:2023-06-13\n",
      "Donor Phone Number: 1-658-111-7564 Donor Primary Contact Person:Lael Skinner Food Address:Ap #401-251 Mauris Street Donor Email:molestie.dapibus@google.ca Date Joined:2024-04-13\n",
      "Donor Phone Number: 1-510-778-2257 Donor Primary Contact Person:Karina Lumaru Food Address:190 Ferri St 1234 Donor Email:k_lumaru@gmail.com Date Joined:2023-07-09\n"
     ]
    }
   ],
   "source": [
    "#displays phone number, primary contact person, address, email, and joined date of all donors \n",
    "query = (donor\n",
    "         .select())\n",
    "for q in query:\n",
    "    print (\"Donor Phone Number: {} Donor Primary Contact Person:{} Donor Address:{} Donor Email:{} Date Joined:{}\".format(q.phone_num, q.primary_contact_name, q.address, q.email, q.date_joined))"
   ]
  },
  {
   "cell_type": "markdown",
   "metadata": {},
   "source": [
    "7. Search for donors in the area (city/zip code/state). (HIGH) - READ"
   ]
  },
  {
   "cell_type": "code",
   "execution_count": 39,
   "metadata": {},
   "outputs": [
    {
     "name": "stdout",
     "output_type": "stream",
     "text": [
      "Donor Phone Number: 1-644-561-3419 Donor Primary Contact Person:Angelica Barnes Donor Address:Ap #897-4039 Diam. Rd. Donor City: Los Angeles Donor Email:donec.sollicitudin@outlook.ca Date Joined:2024-02-24\n"
     ]
    }
   ],
   "source": [
    "#Filter by city\n",
    "query = (donor\n",
    "         .select()\n",
    "         .where (donor.city=='Los Angeles'))\n",
    "for q in query:\n",
    "    print (\"Donor Phone Number: {} Donor Primary Contact Person:{} Donor Address:{} Donor City: {} Donor Email:{} Date Joined:{}\".format(q.phone_num, q.primary_contact_name, q.address, q.city, q.email, q.date_joined))\n"
   ]
  },
  {
   "cell_type": "code",
   "execution_count": 41,
   "metadata": {},
   "outputs": [
    {
     "name": "stdout",
     "output_type": "stream",
     "text": [
      "Donor Phone Number: 1-684-837-5382 Donor Primary Contact Person:Boris Hines Donor Address:Ap #680-6297 Ac Av. Donor State: TX Donor Email:donec.tincidunt@google.net Date Joined:2023-05-19\n",
      "Donor Phone Number: 1-187-127-8675 Donor Primary Contact Person:Elton Melendez Donor Address:P.O. Box 477, 1799 Hendrerit Rd. Donor State: TX Donor Email:gravida@aol.co.uk Date Joined:2024-06-19\n",
      "Donor Phone Number: (466) 332-1228 Donor Primary Contact Person:Aspen Weaver Donor Address:859-2853 Nec, Rd. Donor State: TX Donor Email:cras.dolor@protonmail.net Date Joined:2023-06-13\n"
     ]
    }
   ],
   "source": [
    "#Filter by state\n",
    "query = (donor\n",
    "         .select()\n",
    "         .where (donor.state=='TX'))\n",
    "for q in query:\n",
    "    print (\"Donor Phone Number: {} Donor Primary Contact Person:{} Donor Address:{} Donor State: {} Donor Email:{} Date Joined:{}\".format(q.phone_num, q.primary_contact_name, q.address, q.state, q.email, q.date_joined))"
   ]
  },
  {
   "cell_type": "code",
   "execution_count": 42,
   "metadata": {},
   "outputs": [
    {
     "name": "stdout",
     "output_type": "stream",
     "text": [
      "Donor Phone Number: 1-510-778-2257 Donor Primary Contact Person:Karina Lumaru Donor Address:190 Ferri St 1234 Donor Zip Code: 40404 Donor Email:k_lumaru@gmail.com Date Joined:2023-07-09\n"
     ]
    }
   ],
   "source": [
    "#Filter by zip code\n",
    "query = (donor\n",
    "         .select()\n",
    "         .where (donor.zip=='40404'))\n",
    "for q in query:\n",
    "    print (\"Donor Phone Number: {} Donor Primary Contact Person:{} Donor Address:{} Donor Zip Code: {} Donor Email:{} Date Joined:{}\".format(q.phone_num, q.primary_contact_name, q.address, q.zip, q.email, q.date_joined))"
   ]
  },
  {
   "cell_type": "markdown",
   "metadata": {},
   "source": [
    "8. Request donations by filling out a form (for donor). (HIGH) - CREATE."
   ]
  },
  {
   "cell_type": "code",
   "execution_count": 48,
   "metadata": {},
   "outputs": [
    {
     "name": "stdout",
     "output_type": "stream",
     "text": [
      "Food Bank Name:Dictum Limited Donor Name:Mollis Nec LLC Item:shoes Quantity:3 Date Requested:2021-12-01\n",
      "Food Bank Name:Libero Est LLP Donor Name:Mollis Nec LLC Item:apples Quantity:50 Date Requested:2022-11-01\n",
      "Food Bank Name:Est Mollis Industries Donor Name:Hendrerit Consectetuer Cursus PC Item:melons Quantity:9 Date Requested:2024-04-05\n",
      "Food Bank Name:Est Mollis Industries Donor Name:Hendrerit Consectetuer Cursus PC Item:melons Quantity:9 Date Requested:2024-04-05\n",
      "Food Bank Name:Est Mollis Industries Donor Name:Hendrerit Consectetuer Cursus PC Item:pineapples Quantity:9 Date Requested:2024-04-05\n"
     ]
    }
   ],
   "source": [
    "#This has already been run so it is already created\n",
    "#Must change the FB_REQ_ID in order for it to be a new insert and it will not give an error\n",
    "#OR just comment this out after running once to see it in the list of fb_donation_requests without error\n",
    "fb_donation_request.create(FB_REQ_ID=13369, DO_ID=52309, FB_ID=18607, item=\"pineapples\", quantity = 9, status=\"pending\", date_requested=\"2024-04-05\")\n",
    "\n",
    "#This is to make sure that the item is create\n",
    "#It will be visible in the list of fb_donation_request after it has been successfully created above\n",
    "query = (fb_donation_request\n",
    "         .select()\n",
    "         .join(foodbank, on=fb_donation_request.FB_ID == foodbank.FB_ID)\n",
    "         .join(donor, on=fb_donation_request.DO_ID == donor.DO_ID))\n",
    "for q in query:\n",
    "    print (\"Food Bank Name:{} Donor Name:{} Item:{} Quantity:{} Date Requested:{}\".format(q.FB_ID.name_of_org, q.DO_ID.name_of_org, q.item, q.quantity, q.date_requested))"
   ]
  },
  {
   "cell_type": "markdown",
   "metadata": {},
   "source": [
    "9. View donation requests made by donors. (HIGH) - READ"
   ]
  },
  {
   "cell_type": "code",
   "execution_count": 49,
   "metadata": {},
   "outputs": [
    {
     "name": "stdout",
     "output_type": "stream",
     "text": [
      "Food Bank Name:Nunc PC Donor Name:Turpis Ltd Item:hats Quantity:5 Date Requested:2023-11-26\n",
      "Food Bank Name:Est Mollis Industries Donor Name:Turpis Ltd Item:oranges Quantity:9 Date Requested:2024-02-01\n",
      "Food Bank Name:Est Mollis Industries Donor Name:Hendrerit Consectetuer Cursus PC Item:melons Quantity:9 Date Requested:2024-04-05\n"
     ]
    }
   ],
   "source": [
    "#displays list of all donation requests made by donors\n",
    "query = (do_donation_request\n",
    "         .select()\n",
    "         .join(foodbank, on=do_donation_request.FB_ID == foodbank.FB_ID)\n",
    "         .join(donor, on=do_donation_request.DO_ID == donor.DO_ID))\n",
    "for q in query:\n",
    "    print (\"Food Bank Name:{} Donor Name:{} Item:{} Quantity:{} Date Requested:{}\".format(q.FB_ID.name_of_org, q.DO_ID.name_of_org, q.item, q.quantity, q.date_requested))"
   ]
  },
  {
   "cell_type": "markdown",
   "metadata": {},
   "source": [
    "10. View details of a donation requests from a specific donor. (HIGH) - READ"
   ]
  },
  {
   "cell_type": "code",
   "execution_count": 52,
   "metadata": {},
   "outputs": [
    {
     "name": "stdout",
     "output_type": "stream",
     "text": [
      "Food Bank Name:Nunc PC Donor Name:Turpis Ltd Item:hats Quantity:5 Date Requested:2023-11-26\n",
      "Food Bank Name:Est Mollis Industries Donor Name:Turpis Ltd Item:oranges Quantity:9 Date Requested:2024-02-01\n"
     ]
    }
   ],
   "source": [
    "#same as the above query, except this is requets made by a specific donor\n",
    "query = (do_donation_request\n",
    "         .select()\n",
    "         .join(foodbank, on=do_donation_request.FB_ID == foodbank.FB_ID)\n",
    "         .join(donor, on=do_donation_request.DO_ID == donor.DO_ID)\n",
    "         .where (donor.name_of_org== 'Turpis Ltd'))\n",
    "for q in query:\n",
    "    print (\"Food Bank Name:{} Donor Name:{} Item:{} Quantity:{} Date Requested:{}\".format(q.FB_ID.name_of_org, q.DO_ID.name_of_org, q.item, q.quantity, q.date_requested))"
   ]
  },
  {
   "cell_type": "markdown",
   "metadata": {},
   "source": [
    "11. View personal information of a specific donor. (HIGH) - READ"
   ]
  },
  {
   "cell_type": "code",
   "execution_count": 54,
   "metadata": {},
   "outputs": [
    {
     "name": "stdout",
     "output_type": "stream",
     "text": [
      "Name of Organization:Mollis Nec LLC Type of Organization:Individual Primary Contact Name:Angelica Barnes Subscribed:True City:Los Angeles State:CA Zip:90001\n"
     ]
    }
   ],
   "source": [
    "query = (donor\n",
    "         .select(donor.name_of_org, donor.type_of_org, donor.primary_contact_name, donor.subscribed, donor.city, donor.state, donor.zip)\n",
    "         .where(donor.name_of_org == 'Mollis Nec LLC'))\n",
    "\n",
    "# Loop through the results and print them\n",
    "for q in query:\n",
    "    print(\"Name of Organization:{} Type of Organization:{} Primary Contact Name:{} Subscribed:{} City:{} State:{} Zip:{}\".format(q.name_of_org, q.type_of_org, q.primary_contact_name, q.subscribed, q.city, q.state, q.zip))\n",
    "    \n"
   ]
  },
  {
   "cell_type": "markdown",
   "metadata": {},
   "source": [
    "12. Edit personal information. (HIGH) - UPDATE"
   ]
  },
  {
   "cell_type": "code",
   "execution_count": 59,
   "metadata": {},
   "outputs": [
    {
     "name": "stdout",
     "output_type": "stream",
     "text": [
      "Name of Organization:The Life of Pedro Type of Organization:Individual Primary Contact Name:Pedro Luis Subscribed:True City:Houston State:TX Zip:90001\n"
     ]
    }
   ],
   "source": [
    "# Execute the update query\n",
    "query = donor.update(\n",
    "    address='2576 Blackberry Ridge Blvd',\n",
    "    phone_num='865-990-8786',\n",
    "    primary_contact_name='Pedro Luis',\n",
    "    email='pedro@gmail,com',\n",
    "    name_of_org='The Life of Pedro',\n",
    "    type_of_org='Individual',\n",
    "    city='Houston',\n",
    "    state='TX',\n",
    "    zip='90001'\n",
    ").where(donor.DO_ID == '36580')\n",
    "\n",
    "# Execute the query\n",
    "query.execute()\n",
    "\n",
    "#to check if the update occurred\n",
    "query = (donor.select()\n",
    "         .where(donor.DO_ID==36580))\n",
    "for q in query:\n",
    "    print(\"Name of Organization:{} Type of Organization:{} Primary Contact Name:{} Subscribed:{} City:{} State:{} Zip:{}\".format(q.name_of_org, q.type_of_org, q.primary_contact_name, q.subscribed, q.city, q.state, q.zip))"
   ]
  },
  {
   "cell_type": "markdown",
   "metadata": {},
   "source": [
    "13. Search for details of all documents. (HIGH) - READ"
   ]
  },
  {
   "cell_type": "code",
   "execution_count": 33,
   "metadata": {},
   "outputs": [
    {
     "name": "stdout",
     "output_type": "stream",
     "text": [
      "DOC_ID:32128 FB_ID:84134 DO_ID:55214 Type of Documentation:Finances Date Obtained:2029-05-08 Date Valid:2023-06-23\n",
      "DOC_ID:69644 FB_ID:44204 DO_ID:36580 Type of Documentation:Licenses Date Obtained:2027-06-21 Date Valid:2024-07-08\n",
      "DOC_ID:25464 FB_ID:31557 DO_ID:79989 Type of Documentation:Quality Assurance Date Obtained:2033-07-13 Date Valid:2024-09-18\n",
      "DOC_ID:70638 FB_ID:31557 DO_ID:60159 Type of Documentation:Licenses Date Obtained:2026-04-30 Date Valid:2023-11-24\n",
      "DOC_ID:56902 FB_ID:90226 DO_ID:93180 Type of Documentation:Quality Assurance Date Obtained:2027-04-14 Date Valid:2023-06-17\n",
      "DOC_ID:13906 FB_ID:60551 DO_ID:44241 Type of Documentation:Licenses Date Obtained:2033-06-19 Date Valid:2024-02-20\n",
      "DOC_ID:65680 FB_ID:31557 DO_ID:85314 Type of Documentation:Finances Date Obtained:2025-10-11 Date Valid:2023-09-14\n",
      "DOC_ID:11174 FB_ID:18607 DO_ID:63353 Type of Documentation:Licenses Date Obtained:2029-01-08 Date Valid:2024-08-14\n",
      "DOC_ID:66381 FB_ID:60551 DO_ID:52309 Type of Documentation:Quality Assurance Date Obtained:2028-04-24 Date Valid:2023-10-23\n",
      "DOC_ID:28244 FB_ID:90226 DO_ID:35740 Type of Documentation:Finances Date Obtained:2024-09-02 Date Valid:2025-01-07\n",
      "DOC_ID:32567 FB_ID:None DO_ID:55214 Type of Documentation:Registration Date Obtained:2025-09-09 Date Valid:2023-04-21\n",
      "DOC_ID:33333 FB_ID:None DO_ID:55214 Type of Documentation:Registration Date Obtained:2025-09-09 Date Valid:2023-04-21\n",
      "DOC_ID:33334 FB_ID:None DO_ID:55214 Type of Documentation:Registration Date Obtained:2025-09-09 Date Valid:2023-04-21\n",
      "DOC_ID:33331 FB_ID:84134 DO_ID:55214 Type of Documentation:Registration Date Obtained:2025-09-09 Date Valid:2023-04-21\n"
     ]
    }
   ],
   "source": [
    "query = (documentation\n",
    "         .select(documentation.DOC_ID, documentation.FB_ID, documentation.DO_ID, documentation.type_of_documentation, documentation.date_obtained, documentation.date_valid))\n",
    "\n",
    "# Loop through the results and print them\n",
    "for q in query:\n",
    "    print(\"DOC_ID:{} FB_ID:{} DO_ID:{} Type of Documentation:{} Date Obtained:{} Date Valid:{}\".format(q.DOC_ID, q.FB_ID, q.DO_ID, q.type_of_documentation, q.date_obtained, q.date_valid))\n"
   ]
  },
  {
   "cell_type": "markdown",
   "metadata": {},
   "source": [
    "14. Search for food banks in the area (filter by state/ city/ zip code). (HIGH) - READ"
   ]
  },
  {
   "cell_type": "code",
   "execution_count": 70,
   "metadata": {},
   "outputs": [
    {
     "name": "stdout",
     "output_type": "stream",
     "text": [
      " Food Bank Phone Number: (495) 487-2527 Food Bank Primary Contact Person:Omar Compton Food Bank Address:P.O. Box 394, 9121 Adipiscing Rd. Food Bank City: Los Angeles Food Bank State: CA Food Bank Zip Code: 90001 Food Bank Email:tristique.senectus@outlook.couk Date Joined:2025-03-23\n"
     ]
    }
   ],
   "source": [
    "#Filter by city\n",
    "query = (foodbank\n",
    "         .select()\n",
    "         .where (foodbank.city=='Los Angeles'))\n",
    "for q in query:\n",
    "    print (\" Food Bank Phone Number: {} Food Bank Primary Contact Person:{} Food Bank Address:{} Food Bank City: {} Food Bank State: {} Food Bank Zip Code: {} Food Bank Email:{} Date Joined:{}\".format(q.phone_num, q.primary_contact_name, q.address,q.city, q.state, q.zip, q.email, q.date_joined))"
   ]
  },
  {
   "cell_type": "code",
   "execution_count": 71,
   "metadata": {},
   "outputs": [
    {
     "name": "stdout",
     "output_type": "stream",
     "text": [
      " Food Bank Phone Number: 1-975-967-4234 Food Bank Primary Contact Person:Savannah Brennan Food Bank Address:891-8625 Eleifend Street Food Bank City: Houston Food Bank State: TX Food Bank Zip Code: 77001 Food Bank Email:sed.libero.proin@aol.edu Date Joined:2023-11-30\n",
      " Food Bank Phone Number: (777) 451-0807 Food Bank Primary Contact Person:Sonia Petty Food Bank Address:685-5050 Etiam Ave Food Bank City: San Antonio Food Bank State: TX Food Bank Zip Code: 78201 Food Bank Email:nec.metus@google.couk Date Joined:2023-08-18\n",
      " Food Bank Phone Number: 1-446-684-2218 Food Bank Primary Contact Person:Valentine Figueroa Food Bank Address:P.O. Box 650, 4463 Feugiat Road Food Bank City: Dallas Food Bank State: TX Food Bank Zip Code: 75201 Food Bank Email:ornare.facilisis@protonmail.edu Date Joined:2023-09-25\n"
     ]
    }
   ],
   "source": [
    "#Filter by state\n",
    "query = (foodbank\n",
    "         .select()\n",
    "         .where (foodbank.state=='TX'))\n",
    "for q in query:\n",
    "    print (\" Food Bank Phone Number: {} Food Bank Primary Contact Person:{} Food Bank Address:{} Food Bank City: {} Food Bank State: {} Food Bank Zip Code: {} Food Bank Email:{} Date Joined:{}\".format(q.phone_num, q.primary_contact_name, q.address,q.city, q.state, q.zip, q.email, q.date_joined))"
   ]
  },
  {
   "cell_type": "code",
   "execution_count": 68,
   "metadata": {},
   "outputs": [
    {
     "name": "stdout",
     "output_type": "stream",
     "text": [
      " Food Bank Phone Number: (305) 451-8544 Food Bank Primary Contact Person:Ciara Hopper Food Bank Address:8525 Praesent Road Food Bank City: Chicago Food Bank State: IL Food Bank Zip Code: 60601 Food Bank Email:rutrum@icloud.com Date Joined:2023-10-31\n"
     ]
    }
   ],
   "source": [
    "#Filter by zip code\n",
    "query = (foodbank\n",
    "         .select()\n",
    "         .where (foodbank.zip=='60601'))\n",
    "for q in query:\n",
    "    print (\" Food Bank Phone Number: {} Food Bank Primary Contact Person:{} Food Bank Address:{} Food Bank City: {} Food Bank State: {} Food Bank Zip Code: {} Food Bank Email:{} Date Joined:{}\".format(q.phone_num, q.primary_contact_name, q.address,q.city, q.state, q.zip, q.email, q.date_joined))"
   ]
  },
  {
   "cell_type": "markdown",
   "metadata": {},
   "source": [
    "15. View details of all food banks. (HIGH) - READ"
   ]
  },
  {
   "cell_type": "code",
   "execution_count": 66,
   "metadata": {},
   "outputs": [
    {
     "name": "stdout",
     "output_type": "stream",
     "text": [
      "FB_ID:84134 Username:fb_user84134 Name of Organization:Dictum Limited Address:1721 Nascetur Av. Phone Number:(805) 811-5218 Primary Contact Name:Gavin Olsen Email:curabitur.sed@google.edu Date Joined:2024-04-13\n",
      "FB_ID:44204 Username:fb_user44204 Name of Organization:Nunc PC Address:P.O. Box 394, 9121 Adipiscing Rd. Phone Number:(495) 487-2527 Primary Contact Name:Omar Compton Email:tristique.senectus@outlook.couk Date Joined:2025-03-23\n",
      "FB_ID:14789 Username:fb_user14789 Name of Organization:Libero Est LLP Address:8525 Praesent Road Phone Number:(305) 451-8544 Primary Contact Name:Ciara Hopper Email:rutrum@icloud.com Date Joined:2023-10-31\n",
      "FB_ID:90226 Username:fb_user90226 Name of Organization:Arcu Incorporated Address:891-8625 Eleifend Street Phone Number:1-975-967-4234 Primary Contact Name:Savannah Brennan Email:sed.libero.proin@aol.edu Date Joined:2023-11-30\n",
      "FB_ID:95899 Username:fb_user95899 Name of Organization:Lacus Ut Ltd Address:851-4808 Viverra. Avenue Phone Number:(628) 573-3280 Primary Contact Name:Eaton Cote Email:nulla.integer@yahoo.couk Date Joined:2023-07-30\n",
      "FB_ID:49917 Username:fb_user49917 Name of Organization:Nullam Suscipit Est Company Address:478-8401 Lorem, Rd. Phone Number:(691) 589-7369 Primary Contact Name:Preston Melton Email:nec@google.org Date Joined:2023-12-24\n",
      "FB_ID:60551 Username:fb_user60551 Name of Organization:Eu Eleifend Corporation Address:685-5050 Etiam Ave Phone Number:(777) 451-0807 Primary Contact Name:Sonia Petty Email:nec.metus@google.couk Date Joined:2023-08-18\n",
      "FB_ID:71474 Username:fb_user71474 Name of Organization:Ligula Tortor Limited Address:945-2142 Mauris Av. Phone Number:1-921-357-7113 Primary Contact Name:Pandora Landry Email:sapien.cursus@hotmail.edu Date Joined:2024-09-30\n",
      "FB_ID:31557 Username:fb_user58335 Name of Organization:Molestie Tortor PC Address:P.O. Box 650, 4463 Feugiat Road Phone Number:1-446-684-2218 Primary Contact Name:Valentine Figueroa Email:ornare.facilisis@protonmail.edu Date Joined:2023-09-25\n",
      "FB_ID:18607 Username:fb_user85300 Name of Organization:Est Mollis Industries Address:594-8395 Est St. Phone Number:(528) 516-5768 Primary Contact Name:Kaitlin Serrano Email:nonummy.ultricies@outlook.net Date Joined:2023-11-24\n"
     ]
    }
   ],
   "source": [
    "query = (foodbank.select(foodbank.FB_ID, foodbank.username, foodbank.name_of_org, foodbank.address, foodbank.phone_num, foodbank.primary_contact_name, foodbank.email, foodbank.date_joined))\n",
    "\n",
    "# Loop through the results and print them\n",
    "for q in query:\n",
    "    print(\"FB_ID:{} Username:{} Name of Organization:{} Address:{} Phone Number:{} Primary Contact Name:{} Email:{} Date Joined:{}\".format(q.FB_ID, q.username, q.name_of_org, q.address, q.phone_num, q.primary_contact_name, q.email, q.date_joined))\n"
   ]
  },
  {
   "cell_type": "markdown",
   "metadata": {},
   "source": [
    "16. Request to donate by filling out a form. (HIGH) - CREATE"
   ]
  },
  {
   "cell_type": "code",
   "execution_count": 22,
   "metadata": {},
   "outputs": [
    {
     "ename": "IntegrityError",
     "evalue": "duplicate key value violates unique constraint \"do_donation_request_pkey\"\nDETAIL:  Key (\"DO_REQ_ID\")=(13335) already exists.\n",
     "output_type": "error",
     "traceback": [
      "\u001b[0;31m---------------------------------------------------------------------------\u001b[0m",
      "\u001b[0;31mUniqueViolation\u001b[0m                           Traceback (most recent call last)",
      "File \u001b[0;32m~/.python/current/lib/python3.10/site-packages/peewee.py:3291\u001b[0m, in \u001b[0;36mDatabase.execute_sql\u001b[0;34m(self, sql, params, commit)\u001b[0m\n\u001b[1;32m   3290\u001b[0m     cursor \u001b[38;5;241m=\u001b[39m \u001b[38;5;28mself\u001b[39m\u001b[38;5;241m.\u001b[39mcursor()\n\u001b[0;32m-> 3291\u001b[0m     \u001b[43mcursor\u001b[49m\u001b[38;5;241;43m.\u001b[39;49m\u001b[43mexecute\u001b[49m\u001b[43m(\u001b[49m\u001b[43msql\u001b[49m\u001b[43m,\u001b[49m\u001b[43m \u001b[49m\u001b[43mparams\u001b[49m\u001b[43m \u001b[49m\u001b[38;5;129;43;01mor\u001b[39;49;00m\u001b[43m \u001b[49m\u001b[43m(\u001b[49m\u001b[43m)\u001b[49m\u001b[43m)\u001b[49m\n\u001b[1;32m   3292\u001b[0m \u001b[38;5;28;01mreturn\u001b[39;00m cursor\n",
      "\u001b[0;31mUniqueViolation\u001b[0m: duplicate key value violates unique constraint \"do_donation_request_pkey\"\nDETAIL:  Key (\"DO_REQ_ID\")=(13335) already exists.\n",
      "\nDuring handling of the above exception, another exception occurred:\n",
      "\u001b[0;31mIntegrityError\u001b[0m                            Traceback (most recent call last)",
      "Cell \u001b[0;32mIn[22], line 3\u001b[0m\n\u001b[1;32m      1\u001b[0m \u001b[38;5;66;03m#This has already been run so it is already created\u001b[39;00m\n\u001b[1;32m      2\u001b[0m \u001b[38;5;66;03m#Must change the DO_REQ_ID in order for it to be a new insert and it will not give an error\u001b[39;00m\n\u001b[0;32m----> 3\u001b[0m \u001b[43mdo_donation_request\u001b[49m\u001b[38;5;241;43m.\u001b[39;49m\u001b[43mcreate\u001b[49m\u001b[43m(\u001b[49m\u001b[43mDO_REQ_ID\u001b[49m\u001b[38;5;241;43m=\u001b[39;49m\u001b[38;5;241;43m13335\u001b[39;49m\u001b[43m,\u001b[49m\u001b[43m \u001b[49m\u001b[43mDO_ID\u001b[49m\u001b[38;5;241;43m=\u001b[39;49m\u001b[38;5;241;43m52309\u001b[39;49m\u001b[43m,\u001b[49m\u001b[43m \u001b[49m\u001b[43mFB_ID\u001b[49m\u001b[38;5;241;43m=\u001b[39;49m\u001b[38;5;241;43m18607\u001b[39;49m\u001b[43m,\u001b[49m\u001b[43m \u001b[49m\u001b[43mitem\u001b[49m\u001b[38;5;241;43m=\u001b[39;49m\u001b[38;5;124;43m\"\u001b[39;49m\u001b[38;5;124;43mmelons\u001b[39;49m\u001b[38;5;124;43m\"\u001b[39;49m\u001b[43m,\u001b[49m\u001b[43m \u001b[49m\u001b[43mquantity\u001b[49m\u001b[43m \u001b[49m\u001b[38;5;241;43m=\u001b[39;49m\u001b[43m \u001b[49m\u001b[38;5;241;43m9\u001b[39;49m\u001b[43m,\u001b[49m\u001b[43m \u001b[49m\u001b[43mstatus\u001b[49m\u001b[38;5;241;43m=\u001b[39;49m\u001b[38;5;124;43m\"\u001b[39;49m\u001b[38;5;124;43mpending\u001b[39;49m\u001b[38;5;124;43m\"\u001b[39;49m\u001b[43m,\u001b[49m\u001b[43m \u001b[49m\u001b[43mdate_requested\u001b[49m\u001b[38;5;241;43m=\u001b[39;49m\u001b[38;5;124;43m\"\u001b[39;49m\u001b[38;5;124;43m2024-04-05\u001b[39;49m\u001b[38;5;124;43m\"\u001b[39;49m\u001b[43m)\u001b[49m\n\u001b[1;32m      5\u001b[0m \u001b[38;5;66;03m#This is to make sure that the item is create\u001b[39;00m\n\u001b[1;32m      6\u001b[0m \u001b[38;5;66;03m#It will be visible in the list of donations after it has been successfully created above\u001b[39;00m\n\u001b[1;32m      7\u001b[0m query \u001b[38;5;241m=\u001b[39m (do_donation_request\n\u001b[1;32m      8\u001b[0m          \u001b[38;5;241m.\u001b[39mselect()\n\u001b[1;32m      9\u001b[0m          \u001b[38;5;241m.\u001b[39mjoin(foodbank, on\u001b[38;5;241m=\u001b[39mdo_donation_request\u001b[38;5;241m.\u001b[39mFB_ID \u001b[38;5;241m==\u001b[39m foodbank\u001b[38;5;241m.\u001b[39mFB_ID)\n\u001b[1;32m     10\u001b[0m          \u001b[38;5;241m.\u001b[39mjoin(donor, on\u001b[38;5;241m=\u001b[39mdo_donation_request\u001b[38;5;241m.\u001b[39mDO_ID \u001b[38;5;241m==\u001b[39m donor\u001b[38;5;241m.\u001b[39mDO_ID))\n",
      "File \u001b[0;32m~/.python/current/lib/python3.10/site-packages/peewee.py:6713\u001b[0m, in \u001b[0;36mModel.create\u001b[0;34m(cls, **query)\u001b[0m\n\u001b[1;32m   6710\u001b[0m \u001b[38;5;129m@classmethod\u001b[39m\n\u001b[1;32m   6711\u001b[0m \u001b[38;5;28;01mdef\u001b[39;00m \u001b[38;5;21mcreate\u001b[39m(\u001b[38;5;28mcls\u001b[39m, \u001b[38;5;241m*\u001b[39m\u001b[38;5;241m*\u001b[39mquery):\n\u001b[1;32m   6712\u001b[0m     inst \u001b[38;5;241m=\u001b[39m \u001b[38;5;28mcls\u001b[39m(\u001b[38;5;241m*\u001b[39m\u001b[38;5;241m*\u001b[39mquery)\n\u001b[0;32m-> 6713\u001b[0m     \u001b[43minst\u001b[49m\u001b[38;5;241;43m.\u001b[39;49m\u001b[43msave\u001b[49m\u001b[43m(\u001b[49m\u001b[43mforce_insert\u001b[49m\u001b[38;5;241;43m=\u001b[39;49m\u001b[38;5;28;43;01mTrue\u001b[39;49;00m\u001b[43m)\u001b[49m\n\u001b[1;32m   6714\u001b[0m     \u001b[38;5;28;01mreturn\u001b[39;00m inst\n",
      "File \u001b[0;32m~/.python/current/lib/python3.10/site-packages/peewee.py:6923\u001b[0m, in \u001b[0;36mModel.save\u001b[0;34m(self, force_insert, only)\u001b[0m\n\u001b[1;32m   6921\u001b[0m     rows \u001b[38;5;241m=\u001b[39m \u001b[38;5;28mself\u001b[39m\u001b[38;5;241m.\u001b[39mupdate(\u001b[38;5;241m*\u001b[39m\u001b[38;5;241m*\u001b[39mfield_dict)\u001b[38;5;241m.\u001b[39mwhere(\u001b[38;5;28mself\u001b[39m\u001b[38;5;241m.\u001b[39m_pk_expr())\u001b[38;5;241m.\u001b[39mexecute()\n\u001b[1;32m   6922\u001b[0m \u001b[38;5;28;01melif\u001b[39;00m pk_field \u001b[38;5;129;01mis\u001b[39;00m \u001b[38;5;129;01mnot\u001b[39;00m \u001b[38;5;28;01mNone\u001b[39;00m:\n\u001b[0;32m-> 6923\u001b[0m     pk \u001b[38;5;241m=\u001b[39m \u001b[38;5;28;43mself\u001b[39;49m\u001b[38;5;241;43m.\u001b[39;49m\u001b[43minsert\u001b[49m\u001b[43m(\u001b[49m\u001b[38;5;241;43m*\u001b[39;49m\u001b[38;5;241;43m*\u001b[39;49m\u001b[43mfield_dict\u001b[49m\u001b[43m)\u001b[49m\u001b[38;5;241;43m.\u001b[39;49m\u001b[43mexecute\u001b[49m\u001b[43m(\u001b[49m\u001b[43m)\u001b[49m\n\u001b[1;32m   6924\u001b[0m     \u001b[38;5;28;01mif\u001b[39;00m pk \u001b[38;5;129;01mis\u001b[39;00m \u001b[38;5;129;01mnot\u001b[39;00m \u001b[38;5;28;01mNone\u001b[39;00m \u001b[38;5;129;01mand\u001b[39;00m (\u001b[38;5;28mself\u001b[39m\u001b[38;5;241m.\u001b[39m_meta\u001b[38;5;241m.\u001b[39mauto_increment \u001b[38;5;129;01mor\u001b[39;00m\n\u001b[1;32m   6925\u001b[0m                            pk_value \u001b[38;5;129;01mis\u001b[39;00m \u001b[38;5;28;01mNone\u001b[39;00m):\n\u001b[1;32m   6926\u001b[0m         \u001b[38;5;28mself\u001b[39m\u001b[38;5;241m.\u001b[39m_pk \u001b[38;5;241m=\u001b[39m pk\n",
      "File \u001b[0;32m~/.python/current/lib/python3.10/site-packages/peewee.py:2011\u001b[0m, in \u001b[0;36mdatabase_required.<locals>.inner\u001b[0;34m(self, database, *args, **kwargs)\u001b[0m\n\u001b[1;32m   2008\u001b[0m \u001b[38;5;28;01mif\u001b[39;00m \u001b[38;5;129;01mnot\u001b[39;00m database:\n\u001b[1;32m   2009\u001b[0m     \u001b[38;5;28;01mraise\u001b[39;00m InterfaceError(\u001b[38;5;124m'\u001b[39m\u001b[38;5;124mQuery must be bound to a database in order \u001b[39m\u001b[38;5;124m'\u001b[39m\n\u001b[1;32m   2010\u001b[0m                          \u001b[38;5;124m'\u001b[39m\u001b[38;5;124mto call \u001b[39m\u001b[38;5;124m\"\u001b[39m\u001b[38;5;132;01m%s\u001b[39;00m\u001b[38;5;124m\"\u001b[39m\u001b[38;5;124m.\u001b[39m\u001b[38;5;124m'\u001b[39m \u001b[38;5;241m%\u001b[39m method\u001b[38;5;241m.\u001b[39m\u001b[38;5;18m__name__\u001b[39m)\n\u001b[0;32m-> 2011\u001b[0m \u001b[38;5;28;01mreturn\u001b[39;00m \u001b[43mmethod\u001b[49m\u001b[43m(\u001b[49m\u001b[38;5;28;43mself\u001b[39;49m\u001b[43m,\u001b[49m\u001b[43m \u001b[49m\u001b[43mdatabase\u001b[49m\u001b[43m,\u001b[49m\u001b[43m \u001b[49m\u001b[38;5;241;43m*\u001b[39;49m\u001b[43margs\u001b[49m\u001b[43m,\u001b[49m\u001b[43m \u001b[49m\u001b[38;5;241;43m*\u001b[39;49m\u001b[38;5;241;43m*\u001b[39;49m\u001b[43mkwargs\u001b[49m\u001b[43m)\u001b[49m\n",
      "File \u001b[0;32m~/.python/current/lib/python3.10/site-packages/peewee.py:2082\u001b[0m, in \u001b[0;36mBaseQuery.execute\u001b[0;34m(self, database)\u001b[0m\n\u001b[1;32m   2080\u001b[0m \u001b[38;5;129m@database_required\u001b[39m\n\u001b[1;32m   2081\u001b[0m \u001b[38;5;28;01mdef\u001b[39;00m \u001b[38;5;21mexecute\u001b[39m(\u001b[38;5;28mself\u001b[39m, database):\n\u001b[0;32m-> 2082\u001b[0m     \u001b[38;5;28;01mreturn\u001b[39;00m \u001b[38;5;28;43mself\u001b[39;49m\u001b[38;5;241;43m.\u001b[39;49m\u001b[43m_execute\u001b[49m\u001b[43m(\u001b[49m\u001b[43mdatabase\u001b[49m\u001b[43m)\u001b[49m\n",
      "File \u001b[0;32m~/.python/current/lib/python3.10/site-packages/peewee.py:2887\u001b[0m, in \u001b[0;36mInsert._execute\u001b[0;34m(self, database)\u001b[0m\n\u001b[1;32m   2885\u001b[0m     \u001b[38;5;28mself\u001b[39m\u001b[38;5;241m.\u001b[39m_returning \u001b[38;5;241m=\u001b[39m (\u001b[38;5;28mself\u001b[39m\u001b[38;5;241m.\u001b[39mtable\u001b[38;5;241m.\u001b[39m_primary_key,)\n\u001b[1;32m   2886\u001b[0m \u001b[38;5;28;01mtry\u001b[39;00m:\n\u001b[0;32m-> 2887\u001b[0m     \u001b[38;5;28;01mreturn\u001b[39;00m \u001b[38;5;28;43msuper\u001b[39;49m\u001b[43m(\u001b[49m\u001b[43mInsert\u001b[49m\u001b[43m,\u001b[49m\u001b[43m \u001b[49m\u001b[38;5;28;43mself\u001b[39;49m\u001b[43m)\u001b[49m\u001b[38;5;241;43m.\u001b[39;49m\u001b[43m_execute\u001b[49m\u001b[43m(\u001b[49m\u001b[43mdatabase\u001b[49m\u001b[43m)\u001b[49m\n\u001b[1;32m   2888\u001b[0m \u001b[38;5;28;01mexcept\u001b[39;00m \u001b[38;5;28mself\u001b[39m\u001b[38;5;241m.\u001b[39mDefaultValuesException:\n\u001b[1;32m   2889\u001b[0m     \u001b[38;5;28;01mpass\u001b[39;00m\n",
      "File \u001b[0;32m~/.python/current/lib/python3.10/site-packages/peewee.py:2598\u001b[0m, in \u001b[0;36m_WriteQuery._execute\u001b[0;34m(self, database)\u001b[0m\n\u001b[1;32m   2596\u001b[0m \u001b[38;5;28;01mdef\u001b[39;00m \u001b[38;5;21m_execute\u001b[39m(\u001b[38;5;28mself\u001b[39m, database):\n\u001b[1;32m   2597\u001b[0m     \u001b[38;5;28;01mif\u001b[39;00m \u001b[38;5;28mself\u001b[39m\u001b[38;5;241m.\u001b[39m_returning:\n\u001b[0;32m-> 2598\u001b[0m         cursor \u001b[38;5;241m=\u001b[39m \u001b[38;5;28;43mself\u001b[39;49m\u001b[38;5;241;43m.\u001b[39;49m\u001b[43mexecute_returning\u001b[49m\u001b[43m(\u001b[49m\u001b[43mdatabase\u001b[49m\u001b[43m)\u001b[49m\n\u001b[1;32m   2599\u001b[0m     \u001b[38;5;28;01melse\u001b[39;00m:\n\u001b[1;32m   2600\u001b[0m         cursor \u001b[38;5;241m=\u001b[39m database\u001b[38;5;241m.\u001b[39mexecute(\u001b[38;5;28mself\u001b[39m)\n",
      "File \u001b[0;32m~/.python/current/lib/python3.10/site-packages/peewee.py:2605\u001b[0m, in \u001b[0;36m_WriteQuery.execute_returning\u001b[0;34m(self, database)\u001b[0m\n\u001b[1;32m   2603\u001b[0m \u001b[38;5;28;01mdef\u001b[39;00m \u001b[38;5;21mexecute_returning\u001b[39m(\u001b[38;5;28mself\u001b[39m, database):\n\u001b[1;32m   2604\u001b[0m     \u001b[38;5;28;01mif\u001b[39;00m \u001b[38;5;28mself\u001b[39m\u001b[38;5;241m.\u001b[39m_cursor_wrapper \u001b[38;5;129;01mis\u001b[39;00m \u001b[38;5;28;01mNone\u001b[39;00m:\n\u001b[0;32m-> 2605\u001b[0m         cursor \u001b[38;5;241m=\u001b[39m \u001b[43mdatabase\u001b[49m\u001b[38;5;241;43m.\u001b[39;49m\u001b[43mexecute\u001b[49m\u001b[43m(\u001b[49m\u001b[38;5;28;43mself\u001b[39;49m\u001b[43m)\u001b[49m\n\u001b[1;32m   2606\u001b[0m         \u001b[38;5;28mself\u001b[39m\u001b[38;5;241m.\u001b[39m_cursor_wrapper \u001b[38;5;241m=\u001b[39m \u001b[38;5;28mself\u001b[39m\u001b[38;5;241m.\u001b[39m_get_cursor_wrapper(cursor)\n\u001b[1;32m   2607\u001b[0m     \u001b[38;5;28;01mreturn\u001b[39;00m \u001b[38;5;28mself\u001b[39m\u001b[38;5;241m.\u001b[39m_cursor_wrapper\n",
      "File \u001b[0;32m~/.python/current/lib/python3.10/site-packages/peewee.py:3299\u001b[0m, in \u001b[0;36mDatabase.execute\u001b[0;34m(self, query, commit, **context_options)\u001b[0m\n\u001b[1;32m   3297\u001b[0m ctx \u001b[38;5;241m=\u001b[39m \u001b[38;5;28mself\u001b[39m\u001b[38;5;241m.\u001b[39mget_sql_context(\u001b[38;5;241m*\u001b[39m\u001b[38;5;241m*\u001b[39mcontext_options)\n\u001b[1;32m   3298\u001b[0m sql, params \u001b[38;5;241m=\u001b[39m ctx\u001b[38;5;241m.\u001b[39msql(query)\u001b[38;5;241m.\u001b[39mquery()\n\u001b[0;32m-> 3299\u001b[0m \u001b[38;5;28;01mreturn\u001b[39;00m \u001b[38;5;28;43mself\u001b[39;49m\u001b[38;5;241;43m.\u001b[39;49m\u001b[43mexecute_sql\u001b[49m\u001b[43m(\u001b[49m\u001b[43msql\u001b[49m\u001b[43m,\u001b[49m\u001b[43m \u001b[49m\u001b[43mparams\u001b[49m\u001b[43m)\u001b[49m\n",
      "File \u001b[0;32m~/.python/current/lib/python3.10/site-packages/peewee.py:3289\u001b[0m, in \u001b[0;36mDatabase.execute_sql\u001b[0;34m(self, sql, params, commit)\u001b[0m\n\u001b[1;32m   3287\u001b[0m     __deprecated__(\u001b[38;5;124m'\u001b[39m\u001b[38;5;124m\"\u001b[39m\u001b[38;5;124mcommit\u001b[39m\u001b[38;5;124m\"\u001b[39m\u001b[38;5;124m has been deprecated and is a no-op.\u001b[39m\u001b[38;5;124m'\u001b[39m)\n\u001b[1;32m   3288\u001b[0m logger\u001b[38;5;241m.\u001b[39mdebug((sql, params))\n\u001b[0;32m-> 3289\u001b[0m \u001b[38;5;28;01mwith\u001b[39;00m __exception_wrapper__:\n\u001b[1;32m   3290\u001b[0m     cursor \u001b[38;5;241m=\u001b[39m \u001b[38;5;28mself\u001b[39m\u001b[38;5;241m.\u001b[39mcursor()\n\u001b[1;32m   3291\u001b[0m     cursor\u001b[38;5;241m.\u001b[39mexecute(sql, params \u001b[38;5;129;01mor\u001b[39;00m ())\n",
      "File \u001b[0;32m~/.python/current/lib/python3.10/site-packages/peewee.py:3059\u001b[0m, in \u001b[0;36mExceptionWrapper.__exit__\u001b[0;34m(self, exc_type, exc_value, traceback)\u001b[0m\n\u001b[1;32m   3057\u001b[0m new_type \u001b[38;5;241m=\u001b[39m \u001b[38;5;28mself\u001b[39m\u001b[38;5;241m.\u001b[39mexceptions[exc_type\u001b[38;5;241m.\u001b[39m\u001b[38;5;18m__name__\u001b[39m]\n\u001b[1;32m   3058\u001b[0m exc_args \u001b[38;5;241m=\u001b[39m exc_value\u001b[38;5;241m.\u001b[39margs\n\u001b[0;32m-> 3059\u001b[0m \u001b[43mreraise\u001b[49m\u001b[43m(\u001b[49m\u001b[43mnew_type\u001b[49m\u001b[43m,\u001b[49m\u001b[43m \u001b[49m\u001b[43mnew_type\u001b[49m\u001b[43m(\u001b[49m\u001b[43mexc_value\u001b[49m\u001b[43m,\u001b[49m\u001b[43m \u001b[49m\u001b[38;5;241;43m*\u001b[39;49m\u001b[43mexc_args\u001b[49m\u001b[43m)\u001b[49m\u001b[43m,\u001b[49m\u001b[43m \u001b[49m\u001b[43mtraceback\u001b[49m\u001b[43m)\u001b[49m\n",
      "File \u001b[0;32m~/.python/current/lib/python3.10/site-packages/peewee.py:192\u001b[0m, in \u001b[0;36mreraise\u001b[0;34m(tp, value, tb)\u001b[0m\n\u001b[1;32m    190\u001b[0m \u001b[38;5;28;01mdef\u001b[39;00m \u001b[38;5;21mreraise\u001b[39m(tp, value, tb\u001b[38;5;241m=\u001b[39m\u001b[38;5;28;01mNone\u001b[39;00m):\n\u001b[1;32m    191\u001b[0m     \u001b[38;5;28;01mif\u001b[39;00m value\u001b[38;5;241m.\u001b[39m__traceback__ \u001b[38;5;129;01mis\u001b[39;00m \u001b[38;5;129;01mnot\u001b[39;00m tb:\n\u001b[0;32m--> 192\u001b[0m         \u001b[38;5;28;01mraise\u001b[39;00m value\u001b[38;5;241m.\u001b[39mwith_traceback(tb)\n\u001b[1;32m    193\u001b[0m     \u001b[38;5;28;01mraise\u001b[39;00m value\n",
      "File \u001b[0;32m~/.python/current/lib/python3.10/site-packages/peewee.py:3291\u001b[0m, in \u001b[0;36mDatabase.execute_sql\u001b[0;34m(self, sql, params, commit)\u001b[0m\n\u001b[1;32m   3289\u001b[0m \u001b[38;5;28;01mwith\u001b[39;00m __exception_wrapper__:\n\u001b[1;32m   3290\u001b[0m     cursor \u001b[38;5;241m=\u001b[39m \u001b[38;5;28mself\u001b[39m\u001b[38;5;241m.\u001b[39mcursor()\n\u001b[0;32m-> 3291\u001b[0m     \u001b[43mcursor\u001b[49m\u001b[38;5;241;43m.\u001b[39;49m\u001b[43mexecute\u001b[49m\u001b[43m(\u001b[49m\u001b[43msql\u001b[49m\u001b[43m,\u001b[49m\u001b[43m \u001b[49m\u001b[43mparams\u001b[49m\u001b[43m \u001b[49m\u001b[38;5;129;43;01mor\u001b[39;49;00m\u001b[43m \u001b[49m\u001b[43m(\u001b[49m\u001b[43m)\u001b[49m\u001b[43m)\u001b[49m\n\u001b[1;32m   3292\u001b[0m \u001b[38;5;28;01mreturn\u001b[39;00m cursor\n",
      "\u001b[0;31mIntegrityError\u001b[0m: duplicate key value violates unique constraint \"do_donation_request_pkey\"\nDETAIL:  Key (\"DO_REQ_ID\")=(13335) already exists.\n"
     ]
    }
   ],
   "source": [
    "#This has already been run so it is already created\n",
    "#Must change the DO_REQ_ID in order for it to be a new insert and it will not give an error\n",
    "#OR just comment this part out after running once so it does not give error and result can be seen on the list of do_donation_requests\n",
    "do_donation_request.create(DO_REQ_ID=13335, DO_ID=52309, FB_ID=18607, item=\"melons\", quantity = 9, status=\"pending\", date_requested=\"2024-04-05\")\n",
    "\n",
    "#This is to make sure that the item is create\n",
    "#It will be visible in the list of do_donation_requests after it has been successfully created above\n",
    "query = (do_donation_request\n",
    "         .select()\n",
    "         .join(foodbank, on=do_donation_request.FB_ID == foodbank.FB_ID)\n",
    "         .join(donor, on=do_donation_request.DO_ID == donor.DO_ID))\n",
    "for q in query:\n",
    "    print (\"Food Bank Name:{} Donor Name:{} Item:{} Quantity:{} Date Requested:{}\".format(q.FB_ID.name_of_org, q.DO_ID.name_of_org, q.item, q.quantity, q.date_requested))\n"
   ]
  },
  {
   "cell_type": "markdown",
   "metadata": {},
   "source": [
    "17. Accept/decline to make a donation (foodbanks can ask donors who have donated before to donate again). (HIGH) - UPDATE"
   ]
  },
  {
   "cell_type": "code",
   "execution_count": 133,
   "metadata": {},
   "outputs": [
    {
     "name": "stdout",
     "output_type": "stream",
     "text": [
      "FB_REQ_ID: 0 Food Bank ID: 84134 Donor ID: 36580 Date Requested: 2021-12-01 Status: accepted\n"
     ]
    },
    {
     "data": {
      "text/plain": [
       "1"
      ]
     },
     "execution_count": 133,
     "metadata": {},
     "output_type": "execute_result"
    }
   ],
   "source": [
    "#If a request was accepted by a donor\n",
    "row=fb_donation_request.get(fb_donation_request.FB_REQ_ID == 00000)\n",
    "print (\"FB_REQ_ID: {} Food Bank ID: {} Donor ID: {} Date Requested: {} Status: {}\".format(row.FB_REQ_ID, row.FB_ID, row.DO_ID, row.date_requested, row.status))\n",
    "row.status = \"accepted\"\n",
    "row.save()\n"
   ]
  },
  {
   "cell_type": "code",
   "execution_count": 135,
   "metadata": {},
   "outputs": [
    {
     "name": "stdout",
     "output_type": "stream",
     "text": [
      "FB_REQ_ID: 0 Food Bank ID: 84134 Donor ID: 36580 Date Requested: 2021-12-01 Status: declined\n"
     ]
    },
    {
     "data": {
      "text/plain": [
       "1"
      ]
     },
     "execution_count": 135,
     "metadata": {},
     "output_type": "execute_result"
    }
   ],
   "source": [
    "#If a request was declined by a donor\n",
    "row=fb_donation_request.get(fb_donation_request.FB_REQ_ID == 00000)\n",
    "print (\"FB_REQ_ID: {} Food Bank ID: {} Donor ID: {} Date Requested: {} Status: {}\".format(row.FB_REQ_ID, row.FB_ID, row.DO_ID, row.date_requested, row.status))\n",
    "row.status = \"declined\"\n",
    "row.save()"
   ]
  },
  {
   "cell_type": "markdown",
   "metadata": {},
   "source": [
    "18. View donation requests from food banks. (HIGH) - READ"
   ]
  },
  {
   "cell_type": "code",
   "execution_count": 126,
   "metadata": {},
   "outputs": [
    {
     "name": "stdout",
     "output_type": "stream",
     "text": [
      "Food Bank Name:Dictum Limited Donor Name:Mollis Nec LLC Item:shoes Quantity:3 Date Requested:2021-12-01\n",
      "Food Bank Name:Libero Est LLP Donor Name:Mollis Nec LLC Item:apples Quantity:50 Date Requested:2022-11-01\n"
     ]
    }
   ],
   "source": [
    "#This shows the records in in the fb_donation_request, which are all requests made by food banks to a specfic past donor\n",
    "#It displays the name of the food bank, the donor they requested donations from, the item, quantity, and when they requested\n",
    "query = (fb_donation_request\n",
    "         .select()\n",
    "         .join(foodbank, on=fb_donation_request.FB_ID == foodbank.FB_ID)\n",
    "         .join(donor, on=fb_donation_request.DO_ID == donor.DO_ID))\n",
    "for q in query:\n",
    "    print (\"Food Bank Name:{} Donor Name:{} Item:{} Quantity:{} Date Requested:{}\".format(q.FB_ID.name_of_org, q.DO_ID.name_of_org, q.item, q.quantity, q.date_requested))"
   ]
  },
  {
   "cell_type": "markdown",
   "metadata": {},
   "source": [
    "19. View details of a donation requested by a food bank. (HIGH) - READ"
   ]
  },
  {
   "cell_type": "code",
   "execution_count": 20,
   "metadata": {},
   "outputs": [
    {
     "name": "stdout",
     "output_type": "stream",
     "text": [
      "Food Bank Name:Dictum Limited Donor Name:Mollis Nec LLC Item:shoes Quantity:3 Date Requested:2021-12-01\n"
     ]
    }
   ],
   "source": [
    "#This shows the details of a specifc donation request that was made by a food bank to a donor\n",
    "#This is similar to the previous one, except it has a where condition as it is seraching for donation request from a specifc food bank\n",
    "query = (fb_donation_request\n",
    "         .select()\n",
    "         .join(foodbank, on=fb_donation_request.FB_ID == foodbank.FB_ID)\n",
    "         .join(donor, on=fb_donation_request.DO_ID == donor.DO_ID)\n",
    "         .where (foodbank.name_of_org == 'Dictum Limited'))\n",
    "for q in query:\n",
    "    print (\"Food Bank Name:{} Donor Name:{} Item:{} Quantity:{} Date Requested:{}\".format(q.FB_ID.name_of_org, q.DO_ID.name_of_org, q.item, q.quantity, q.date_requested))"
   ]
  },
  {
   "cell_type": "markdown",
   "metadata": {},
   "source": [
    "5. View personal information of all donors. (HIGH) - READ"
   ]
  },
  {
   "cell_type": "code",
   "execution_count": 6,
   "metadata": {},
   "outputs": [
    {
     "name": "stdout",
     "output_type": "stream",
     "text": [
      "Name of Org: Turpis Ltd Type of Org: Individual Primary Contact Name: Jesse Lopez Subscribed: True City: New York State: NY Zip: 10001\n",
      "Name of Org: Gravida PC Type of Org: Individual Primary Contact Name: Naida Cash Subscribed: True City: Chicago State: IL Zip: 60601\n",
      "Name of Org: Magna Suspendisse Associates Type of Org: Organisation Primary Contact Name: Boris Hines Subscribed: True City: Houston State: TX Zip: 77001\n",
      "Name of Org: Dictum Placerat PC Type of Org: Individual Primary Contact Name: Hedy Frye Subscribed: True City: Phoenix State: AZ Zip: 85001\n",
      "Name of Org: Tellus Sem LLC Type of Org: Organisation Primary Contact Name: Hiram Reid Subscribed: True City: Philadelphia State: PA Zip: 19019\n",
      "Name of Org: Ipsum Porta Elit PC Type of Org: Organisation Primary Contact Name: Elton Melendez Subscribed: True City: San Antonio State: TX Zip: 78201\n",
      "Name of Org: Ac Mi PC Type of Org: Individual Primary Contact Name: Dai Merrill Subscribed: True City: San Diego State: CA Zip: 92101\n",
      "Name of Org: Hendrerit Consectetuer Cursus PC Type of Org: Organisation Primary Contact Name: Aspen Weaver Subscribed: True City: Dallas State: TX Zip: 75201\n",
      "Name of Org: Metus Aliquam Limited Type of Org: Individual Primary Contact Name: Lael Skinner Subscribed: True City: San Jose State: CA Zip: 95101\n",
      "Name of Org: Karina_Lumaru Type of Org: Individual Primary Contact Name: Karina Lumaru Subscribed: True City: Berea State: KY Zip: 40404\n",
      "Name of Org: The Life of Pedro Type of Org: Individual Primary Contact Name: Pedro Luis Subscribed: True City: Houston State: TX Zip: 90001\n"
     ]
    }
   ],
   "source": [
    "#donor information\n",
    "rows=donor.select()\n",
    "for row in rows:\n",
    "   print (\"Name of Org: {} Type of Org: {} Primary Contact Name: {} Subscribed: {} City: {} State: {} Zip: {}\".format(row.name_of_org, row.type_of_org, row.primary_contact_name, row.subscribed, row.city, row.state, row.zip))\n"
   ]
  }
 ],
 "metadata": {
  "kernelspec": {
   "display_name": "Python 3",
   "language": "python",
   "name": "python3"
  },
  "language_info": {
   "codemirror_mode": {
    "name": "ipython",
    "version": 3
   },
   "file_extension": ".py",
   "mimetype": "text/x-python",
   "name": "python",
   "nbconvert_exporter": "python",
   "pygments_lexer": "ipython3",
   "version": "3.10.13"
  }
 },
 "nbformat": 4,
 "nbformat_minor": 2
}
