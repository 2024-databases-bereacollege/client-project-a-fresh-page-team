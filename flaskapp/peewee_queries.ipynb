{
 "cells": [
  {
   "cell_type": "code",
   "execution_count": 2,
   "metadata": {},
   "outputs": [],
   "source": [
    "from peewee import *\n",
    "mydb = PostgresqlDatabase(\"postgres\",host=\"db\",user=\"postgres\",password=\"postgres\")\n",
    "\n",
    "class baseModel(Model):\n",
    "    class Meta:\n",
    "        database = mydb"
   ]
  },
  {
   "cell_type": "code",
   "execution_count": 3,
   "metadata": {},
   "outputs": [],
   "source": [
    "class foodbank(baseModel):\n",
    "    FB_ID = PrimaryKeyField()\n",
    "    username = CharField(20, unique = True)\n",
    "    name_of_org = CharField(100)\n",
    "    primary_contact_name = CharField(100)\n",
    "    phone_num = CharField(100)\n",
    "    address = CharField(255, unique = True)\n",
    "    email = CharField(100)\n",
    "    date_joined = DateField() \n",
    "    city = CharField()\n",
    "    state = CharField()\n",
    "    zip = CharField()\n",
    "\n",
    "class donor (baseModel):\n",
    "    DO_ID = PrimaryKeyField()\n",
    "    username = CharField(20, unique = True)\n",
    "    name_of_org = CharField(100)\n",
    "    type_of_org = CharField(100) \n",
    "    subscribed = BooleanField(default= False) \n",
    "    address = CharField(255, unique = True)\n",
    "    primary_contact_name = CharField(100)\n",
    "    phone_num = CharField(100)\n",
    "    email = CharField(100)\n",
    "    date_joined = DateField()\n",
    "    city = CharField()\n",
    "    state = CharField()\n",
    "    zip = CharField()\n",
    "\n",
    "class donation(baseModel):\n",
    "    DN_ID = PrimaryKeyField()\n",
    "    DO_ID = ForeignKeyField(donor, column_name='DO_ID')\n",
    "    FB_ID = ForeignKeyField(foodbank, column_name='FB_ID')\n",
    "    type_of_donation = CharField(255)\n",
    "    quantity = IntegerField() # in pounds - check with Dr.Page if detailed breakdown of donations are needed, f so, we will create a different table to track quantity\n",
    "    date_donated = DateField()\n",
    "\n",
    "class fb_donation_request(baseModel):\n",
    "    FB_REQ_ID = PrimaryKeyField()\n",
    "    FB_ID = ForeignKeyField(foodbank,column_name='FB_ID')\n",
    "    DO_ID = ForeignKeyField(donor,column_name='DO_ID')\n",
    "    item = CharField(100)\n",
    "    quantity = IntegerField()\n",
    "    date_requested = DateField()\n",
    "    status = CharField(255, default = 'pending') #\n",
    "\n",
    "class do_donation_request(baseModel):\n",
    "    DO_REQ_ID = PrimaryKeyField()\n",
    "    DO_ID = ForeignKeyField(donor,column_name='DO_ID')\n",
    "    FB_ID = ForeignKeyField(foodbank,column_name='FB_ID')\n",
    "    item = CharField(100)\n",
    "    quantity = IntegerField()\n",
    "    date_requested = DateField()\n",
    "    status = CharField(255, default = 'pending')\n",
    "\n",
    "class documentation(baseModel):\n",
    "    DOC_ID = PrimaryKeyField()\n",
    "    DO_ID = ForeignKeyField(donor, null = True, column_name='DO_ID') \n",
    "    FB_ID = ForeignKeyField(foodbank,null = True, column_name='FB_ID') \n",
    "    type_of_documentation = CharField(255)\n",
    "    date_obtained = DateField() \n",
    "    date_valid = DateField()"
   ]
  },
  {
   "cell_type": "markdown",
   "metadata": {},
   "source": [
    "1. Submit documents. (HIGH) - CREATE"
   ]
  },
  {
   "cell_type": "code",
   "execution_count": 4,
   "metadata": {},
   "outputs": [
    {
     "name": "stdout",
     "output_type": "stream",
     "text": [
      "DOC_ID: 33331 Food Bank Name:Dictum Limited Donor Name:Turpis Ltd Type of Doc:Registration Date Obtained:2025-09-09 Date Valid:2023-04-21\n"
     ]
    }
   ],
   "source": [
    "#This is created after it is run once\n",
    "#Must change the DOC__ID in order for it to be a new insert and it will not give an error\n",
    "#OR just comment this line out to see if the info exist\n",
    "documentation.create(DOC_ID=33331, DO_ID=55214, FB_ID=84134, type_of_documentation='Registration', date_obtained = '2025-09-09', date_valid='2023-04-21')\n",
    "\n",
    "#This is to make sure that the item is created\n",
    "#It will be visible in the list of documentations after it has been successfully created above\n",
    "query = (documentation\n",
    "         .select()\n",
    "         .join(foodbank, on=documentation.FB_ID == foodbank.FB_ID)\n",
    "         .join(donor, on=documentation.DO_ID == donor.DO_ID))\n",
    "for q in query:\n",
    "    print (\"DOC_ID: {} Food Bank Name:{} Donor Name:{} Type of Doc:{} Date Obtained:{} Date Valid:{}\".format(q.DOC_ID, q.FB_ID.name_of_org, q.DO_ID.name_of_org, q.type_of_documentation, q.date_obtained, q.date_valid))"
   ]
  },
  {
   "cell_type": "markdown",
   "metadata": {},
   "source": [
    "2. View details of all document. (HIGH) - READ"
   ]
  },
  {
   "cell_type": "code",
   "execution_count": 5,
   "metadata": {},
   "outputs": [
    {
     "name": "stdout",
     "output_type": "stream",
     "text": [
      "DOC_ID: 33331 Food Bank Name:Dictum Limited Donor Name:Turpis Ltd Type of Doc:Registration Date Obtained:2025-09-09 Date Valid:2023-04-21\n"
     ]
    }
   ],
   "source": [
    "#Displays the details of all documents in documentation\n",
    "query = (documentation\n",
    "         .select()\n",
    "         .join(foodbank, on=documentation.FB_ID == foodbank.FB_ID)\n",
    "         .join(donor, on=documentation.DO_ID == donor.DO_ID))\n",
    "for q in query:\n",
    "    print (\"DOC_ID: {} Food Bank Name:{} Donor Name:{} Type of Doc:{} Date Obtained:{} Date Valid:{}\".format(q.DOC_ID, q.FB_ID.name_of_org, q.DO_ID.name_of_org, q.type_of_documentation, q.date_obtained, q.date_valid))"
   ]
  },
  {
   "cell_type": "markdown",
   "metadata": {},
   "source": [
    "3. View donation received history. (HIGH) - READ"
   ]
  },
  {
   "cell_type": "code",
   "execution_count": 6,
   "metadata": {},
   "outputs": [
    {
     "name": "stdout",
     "output_type": "stream",
     "text": [
      "Donation ID: 37828 Donor Name:Metus Aliquam Limited Food Bank Name:Est Mollis Industries Type of Donation:pies Quantity:3 Date Donated:2023-12-23\n",
      "Donation ID: 31474 Donor Name:Ac Mi PC Food Bank Name:Nunc PC Type of Donation:sandwiches Quantity:0 Date Donated:2023-07-03\n",
      "Donation ID: 30178 Donor Name:Metus Aliquam Limited Food Bank Name:Eu Eleifend Corporation Type of Donation:pies Quantity:3 Date Donated:2023-10-04\n",
      "Donation ID: 16415 Donor Name:Metus Aliquam Limited Food Bank Name:Arcu Incorporated Type of Donation:pasta Quantity:10 Date Donated:2024-08-26\n",
      "Donation ID: 80595 Donor Name:Tellus Sem LLC Food Bank Name:Arcu Incorporated Type of Donation:sandwiches Quantity:5 Date Donated:2023-11-11\n",
      "Donation ID: 27209 Donor Name:Mollis Nec LLC Food Bank Name:Molestie Tortor PC Type of Donation:soups Quantity:9 Date Donated:2023-10-12\n",
      "Donation ID: 33177 Donor Name:Ipsum Porta Elit PC Food Bank Name:Molestie Tortor PC Type of Donation:noodles Quantity:6 Date Donated:2024-12-08\n",
      "Donation ID: 87051 Donor Name:Turpis Ltd Food Bank Name:Dictum Limited Type of Donation:noodles Quantity:6 Date Donated:2023-09-11\n",
      "Donation ID: 48349 Donor Name:Magna Suspendisse Associates Food Bank Name:Dictum Limited Type of Donation:pies Quantity:9 Date Donated:2023-12-14\n",
      "Donation ID: 15100 Donor Name:Gravida PC Food Bank Name:Nullam Suscipit Est Company Type of Donation:sandwiches Quantity:8 Date Donated:2024-08-04\n"
     ]
    }
   ],
   "source": [
    "#View a list of all the donations that has been completed along with their details\n",
    "query = (donation\n",
    "         .select()\n",
    "         .join(foodbank, on=donation.FB_ID == foodbank.FB_ID)\n",
    "         .join(donor, on=donation.DO_ID == donor.DO_ID))\n",
    "for q in query:\n",
    "    print (\"Donation ID: {} Donor Name:{} Food Bank Name:{} Type of Donation:{} Quantity:{} Date Donated:{}\".format(q.DN_ID, q.DO_ID.name_of_org, q.FB_ID.name_of_org, q.type_of_donation, q.quantity, q.date_donated))"
   ]
  },
  {
   "cell_type": "markdown",
   "metadata": {},
   "source": [
    "4. View details of a donation. (HIGH) - READ"
   ]
  },
  {
   "cell_type": "code",
   "execution_count": 7,
   "metadata": {},
   "outputs": [
    {
     "name": "stdout",
     "output_type": "stream",
     "text": [
      "Donation ID: 37828 Donor Name:Metus Aliquam Limited Food Bank Name:Est Mollis Industries Type of Donation:pies Quantity:3 Date Donated:2023-12-23\n"
     ]
    }
   ],
   "source": [
    "#Same as the above query, except this is for one specific donation\n",
    "query = (donation\n",
    "         .select()\n",
    "         .join(foodbank, on=donation.FB_ID == foodbank.FB_ID)\n",
    "         .join(donor, on=donation.DO_ID == donor.DO_ID)\n",
    "         .where (donation.DN_ID == 37828))\n",
    "for q in query:\n",
    "    print (\"Donation ID: {} Donor Name:{} Food Bank Name:{} Type of Donation:{} Quantity:{} Date Donated:{}\".format(q.DN_ID, q.DO_ID.name_of_org, q.FB_ID.name_of_org, q.type_of_donation, q.quantity, q.date_donated))"
   ]
  },
  {
   "cell_type": "markdown",
   "metadata": {},
   "source": [
    "5. Sign up to the website. Insert usernmae, ID, etc. (HIGH) - CREATE"
   ]
  },
  {
   "cell_type": "code",
   "execution_count": 8,
   "metadata": {},
   "outputs": [
    {
     "name": "stdout",
     "output_type": "stream",
     "text": [
      "DO_ID: 55214 Donor Name:Turpis Ltd Donor Primary Contact Name:Jesse Lopez Type Of Org:Individual Subscribed :True\n",
      "DO_ID: 36580 Donor Name:Mollis Nec LLC Donor Primary Contact Name:Angelica Barnes Type Of Org:Individual Subscribed :True\n",
      "DO_ID: 93180 Donor Name:Gravida PC Donor Primary Contact Name:Naida Cash Type Of Org:Individual Subscribed :True\n",
      "DO_ID: 44241 Donor Name:Magna Suspendisse Associates Donor Primary Contact Name:Boris Hines Type Of Org:Organisation Subscribed :True\n",
      "DO_ID: 79989 Donor Name:Dictum Placerat PC Donor Primary Contact Name:Hedy Frye Type Of Org:Individual Subscribed :True\n",
      "DO_ID: 60159 Donor Name:Tellus Sem LLC Donor Primary Contact Name:Hiram Reid Type Of Org:Organisation Subscribed :True\n",
      "DO_ID: 63353 Donor Name:Ipsum Porta Elit PC Donor Primary Contact Name:Elton Melendez Type Of Org:Organisation Subscribed :True\n",
      "DO_ID: 85314 Donor Name:Ac Mi PC Donor Primary Contact Name:Dai Merrill Type Of Org:Individual Subscribed :True\n",
      "DO_ID: 52309 Donor Name:Hendrerit Consectetuer Cursus PC Donor Primary Contact Name:Aspen Weaver Type Of Org:Organisation Subscribed :True\n",
      "DO_ID: 35740 Donor Name:Metus Aliquam Limited Donor Primary Contact Name:Lael Skinner Type Of Org:Individual Subscribed :True\n",
      "DO_ID: 52389 Donor Name:Karina_Lumaru Donor Primary Contact Name:Karina Lumaru Type Of Org:Individual Subscribed :True\n"
     ]
    }
   ],
   "source": [
    "#User data will be created so that they can log in with an existing username\n",
    "#Donor account creation\n",
    "donor.create(DO_ID=52389, username='karina_lumaru', name_of_org='Karina_Lumaru', primary_contact_name='Karina Lumaru', phone_num='1-510-778-2257', address='190 Ferri St 1234', email='k_lumaru@gmail.com', city='Berea', state='KY', zip='40404', date_joined='2023-07-09', type_of_org='Individual', subscribed='Yes')\n",
    "\n",
    "#This is to make sure that the item is created\n",
    "#It will be visible in the list of donors after it has been successfully created above\n",
    "query = (donor\n",
    "         .select())\n",
    "for q in query:\n",
    "    print (\"DO_ID: {} Donor Name:{} Donor Primary Contact Name:{} Type Of Org:{} Subscribed :{}\".format(q.DO_ID, q.name_of_org, q.primary_contact_name, q.type_of_org, q.subscribed))"
   ]
  },
  {
   "cell_type": "code",
   "execution_count": 9,
   "metadata": {},
   "outputs": [
    {
     "name": "stdout",
     "output_type": "stream",
     "text": [
      "FB_ID: 84134 Username:fb_user84134 Name Of Org: Dictum Limited Donor Primary Contact Name:Gavin Olsen Phone Num: (805) 811-5218 Address: 1721 Nascetur Av. Email: curabitur.sed@google.edu City: New York State: NY Zip Code: 10001 Date Joined:2024-04-13\n",
      "FB_ID: 44204 Username:fb_user44204 Name Of Org: Nunc PC Donor Primary Contact Name:Omar Compton Phone Num: (495) 487-2527 Address: P.O. Box 394, 9121 Adipiscing Rd. Email: tristique.senectus@outlook.couk City: Los Angeles State: CA Zip Code: 90001 Date Joined:2025-03-23\n",
      "FB_ID: 14789 Username:fb_user14789 Name Of Org: Libero Est LLP Donor Primary Contact Name:Ciara Hopper Phone Num: (305) 451-8544 Address: 8525 Praesent Road Email: rutrum@icloud.com City: Chicago State: IL Zip Code: 60601 Date Joined:2023-10-31\n",
      "FB_ID: 90226 Username:fb_user90226 Name Of Org: Arcu Incorporated Donor Primary Contact Name:Savannah Brennan Phone Num: 1-975-967-4234 Address: 891-8625 Eleifend Street Email: sed.libero.proin@aol.edu City: Houston State: TX Zip Code: 77001 Date Joined:2023-11-30\n",
      "FB_ID: 95899 Username:fb_user95899 Name Of Org: Lacus Ut Ltd Donor Primary Contact Name:Eaton Cote Phone Num: (628) 573-3280 Address: 851-4808 Viverra. Avenue Email: nulla.integer@yahoo.couk City: Phoenix State: AZ Zip Code: 85001 Date Joined:2023-07-30\n",
      "FB_ID: 49917 Username:fb_user49917 Name Of Org: Nullam Suscipit Est Company Donor Primary Contact Name:Preston Melton Phone Num: (691) 589-7369 Address: 478-8401 Lorem, Rd. Email: nec@google.org City: Philadelphia State: PA Zip Code: 19019 Date Joined:2023-12-24\n",
      "FB_ID: 60551 Username:fb_user60551 Name Of Org: Eu Eleifend Corporation Donor Primary Contact Name:Sonia Petty Phone Num: (777) 451-0807 Address: 685-5050 Etiam Ave Email: nec.metus@google.couk City: San Antonio State: TX Zip Code: 78201 Date Joined:2023-08-18\n",
      "FB_ID: 71474 Username:fb_user71474 Name Of Org: Ligula Tortor Limited Donor Primary Contact Name:Pandora Landry Phone Num: 1-921-357-7113 Address: 945-2142 Mauris Av. Email: sapien.cursus@hotmail.edu City: San Diego State: CA Zip Code: 92101 Date Joined:2024-09-30\n",
      "FB_ID: 31557 Username:fb_user58335 Name Of Org: Molestie Tortor PC Donor Primary Contact Name:Valentine Figueroa Phone Num: 1-446-684-2218 Address: P.O. Box 650, 4463 Feugiat Road Email: ornare.facilisis@protonmail.edu City: Dallas State: TX Zip Code: 75201 Date Joined:2023-09-25\n",
      "FB_ID: 18607 Username:fb_user85300 Name Of Org: Est Mollis Industries Donor Primary Contact Name:Kaitlin Serrano Phone Num: (528) 516-5768 Address: 594-8395 Est St. Email: nonummy.ultricies@outlook.net City: San Jose State: CA Zip Code: 95101 Date Joined:2023-11-24\n",
      "FB_ID: 84890 Username:fb_user84890 Name Of Org: Creative Limited Donor Primary Contact Name:Anna Luis Phone Num: (805) 855-8902 Address: 1721 Oliver Av. Email: lame.email@google.org City: Berea State: KY Zip Code: 40404 Date Joined:2024-03-23\n"
     ]
    }
   ],
   "source": [
    "#User data will be created so that they can log in with an existing username\n",
    "#Food bank account creation\n",
    "#It can only be created once so it gives error after it run once\n",
    "# COmment this part out after running once to see it in the results of food banks\n",
    "foodbank.create(FB_ID=84890, username='fb_user84890', name_of_org='Creative Limited', primary_contact_name='Anna Luis', phone_num='(805) 855-8902', address='1721 Oliver Av.', email='lame.email@google.org', city='Berea', state='KY', zip='40404', date_joined='2024-03-23')\n",
    "\n",
    "#This is to make sure that the item is created\n",
    "#It will be visible in the list of food banks after it has been successfully created above\n",
    "query = (foodbank\n",
    "         .select())\n",
    "for q in query:\n",
    "    print (\"FB_ID: {} Username:{} Name Of Org: {} Donor Primary Contact Name:{} Phone Num: {} Address: {} Email: {} City: {} State: {} Zip Code: {} Date Joined:{}\".format(q.FB_ID, q.username, q.name_of_org, q.primary_contact_name,q.phone_num, q.address,q.email, q.city, q.state, q.zip, q.date_joined))"
   ]
  },
  {
   "cell_type": "markdown",
   "metadata": {},
   "source": [
    "6. View details of all donors (phone number/ email/name/ date joined. (HIGH) - READ"
   ]
  },
  {
   "cell_type": "code",
   "execution_count": 10,
   "metadata": {},
   "outputs": [
    {
     "name": "stdout",
     "output_type": "stream",
     "text": [
      "Donor Phone Number: 1-510-766-9562 Donor Primary Contact Person:Jesse Lopez Donor Address:P.O. Box 966 174 Nec St. Donor Email:eu.turpis@hotmail.net Date Joined:2023-05-02\n",
      "Donor Phone Number: 1-644-561-3419 Donor Primary Contact Person:Angelica Barnes Donor Address:Ap #897-4039 Diam. Rd. Donor Email:donec.sollicitudin@outlook.ca Date Joined:2024-02-24\n",
      "Donor Phone Number: (284) 430-8637 Donor Primary Contact Person:Naida Cash Donor Address:176-7009 Et, Road Donor Email:elit.erat@yahoo.co.uk Date Joined:2023-04-26\n",
      "Donor Phone Number: 1-684-837-5382 Donor Primary Contact Person:Boris Hines Donor Address:Ap #680-6297 Ac Av. Donor Email:donec.tincidunt@google.net Date Joined:2023-05-19\n",
      "Donor Phone Number: 1-251-352-9093 Donor Primary Contact Person:Hedy Frye Donor Address:219-3578 Erat. Ave Donor Email:donec.elementum@outlook.com Date Joined:2024-05-26\n",
      "Donor Phone Number: (232) 837-8646 Donor Primary Contact Person:Hiram Reid Donor Address:P.O. Box 370, 9694 Purus, Ave Donor Email:velit.eget@yahoo.ca Date Joined:2024-06-02\n",
      "Donor Phone Number: 1-187-127-8675 Donor Primary Contact Person:Elton Melendez Donor Address:P.O. Box 477, 1799 Hendrerit Rd. Donor Email:gravida@aol.co.uk Date Joined:2024-06-19\n",
      "Donor Phone Number: 1-586-475-8805 Donor Primary Contact Person:Dai Merrill Donor Address:828-5700 Turpis. Ave Donor Email:vitae@protonmail.co.uk Date Joined:2024-06-19\n",
      "Donor Phone Number: (466) 332-1228 Donor Primary Contact Person:Aspen Weaver Donor Address:859-2853 Nec, Rd. Donor Email:cras.dolor@protonmail.net Date Joined:2023-06-13\n",
      "Donor Phone Number: 1-658-111-7564 Donor Primary Contact Person:Lael Skinner Donor Address:Ap #401-251 Mauris Street Donor Email:molestie.dapibus@google.ca Date Joined:2024-04-13\n",
      "Donor Phone Number: 1-510-778-2257 Donor Primary Contact Person:Karina Lumaru Donor Address:190 Ferri St 1234 Donor Email:k_lumaru@gmail.com Date Joined:2023-07-09\n"
     ]
    }
   ],
   "source": [
    "#displays phone number, primary contact person, address, email, and joined date of all donors \n",
    "query = (donor\n",
    "         .select())\n",
    "for q in query:\n",
    "    print (\"Donor Phone Number: {} Donor Primary Contact Person:{} Donor Address:{} Donor Email:{} Date Joined:{}\".format(q.phone_num, q.primary_contact_name, q.address, q.email, q.date_joined))"
   ]
  },
  {
   "cell_type": "markdown",
   "metadata": {},
   "source": [
    "7. Search for donors in the area (city/zip code/state). (HIGH) - READ"
   ]
  },
  {
   "cell_type": "code",
   "execution_count": 11,
   "metadata": {},
   "outputs": [
    {
     "name": "stdout",
     "output_type": "stream",
     "text": [
      "Donor Phone Number: 1-644-561-3419 Donor Primary Contact Person:Angelica Barnes Donor Address:Ap #897-4039 Diam. Rd. Donor City: Los Angeles Donor Email:donec.sollicitudin@outlook.ca Date Joined:2024-02-24\n"
     ]
    }
   ],
   "source": [
    "#Filter by city\n",
    "query = (donor\n",
    "         .select()\n",
    "         .where (donor.city=='Los Angeles'))\n",
    "for q in query:\n",
    "    print (\"Donor Phone Number: {} Donor Primary Contact Person:{} Donor Address:{} Donor City: {} Donor Email:{} Date Joined:{}\".format(q.phone_num, q.primary_contact_name, q.address, q.city, q.email, q.date_joined))\n"
   ]
  },
  {
   "cell_type": "code",
   "execution_count": 12,
   "metadata": {},
   "outputs": [
    {
     "name": "stdout",
     "output_type": "stream",
     "text": [
      "Donor Phone Number: 1-684-837-5382 Donor Primary Contact Person:Boris Hines Donor Address:Ap #680-6297 Ac Av. Donor State: TX Donor Email:donec.tincidunt@google.net Date Joined:2023-05-19\n",
      "Donor Phone Number: 1-187-127-8675 Donor Primary Contact Person:Elton Melendez Donor Address:P.O. Box 477, 1799 Hendrerit Rd. Donor State: TX Donor Email:gravida@aol.co.uk Date Joined:2024-06-19\n",
      "Donor Phone Number: (466) 332-1228 Donor Primary Contact Person:Aspen Weaver Donor Address:859-2853 Nec, Rd. Donor State: TX Donor Email:cras.dolor@protonmail.net Date Joined:2023-06-13\n"
     ]
    }
   ],
   "source": [
    "#Filter by state\n",
    "query = (donor\n",
    "         .select()\n",
    "         .where (donor.state=='TX'))\n",
    "for q in query:\n",
    "    print (\"Donor Phone Number: {} Donor Primary Contact Person:{} Donor Address:{} Donor State: {} Donor Email:{} Date Joined:{}\".format(q.phone_num, q.primary_contact_name, q.address, q.state, q.email, q.date_joined))"
   ]
  },
  {
   "cell_type": "code",
   "execution_count": 13,
   "metadata": {},
   "outputs": [
    {
     "name": "stdout",
     "output_type": "stream",
     "text": [
      "Donor Phone Number: 1-510-778-2257 Donor Primary Contact Person:Karina Lumaru Donor Address:190 Ferri St 1234 Donor Zip Code: 40404 Donor Email:k_lumaru@gmail.com Date Joined:2023-07-09\n"
     ]
    }
   ],
   "source": [
    "#Filter by zip code\n",
    "query = (donor\n",
    "         .select()\n",
    "         .where (donor.zip=='40404'))\n",
    "for q in query:\n",
    "    print (\"Donor Phone Number: {} Donor Primary Contact Person:{} Donor Address:{} Donor Zip Code: {} Donor Email:{} Date Joined:{}\".format(q.phone_num, q.primary_contact_name, q.address, q.zip, q.email, q.date_joined))"
   ]
  },
  {
   "cell_type": "markdown",
   "metadata": {},
   "source": [
    "8. Request donations by filling out a form (for donor). (HIGH) - CREATE."
   ]
  },
  {
   "cell_type": "code",
   "execution_count": 14,
   "metadata": {},
   "outputs": [
    {
     "name": "stdout",
     "output_type": "stream",
     "text": [
      "Food Bank Name:Dictum Limited Donor Name:Mollis Nec LLC Item:shoes Quantity:3 Date Requested:2021-12-01\n",
      "Food Bank Name:Libero Est LLP Donor Name:Mollis Nec LLC Item:apples Quantity:50 Date Requested:2022-11-01\n",
      "Food Bank Name:Est Mollis Industries Donor Name:Hendrerit Consectetuer Cursus PC Item:pineapples Quantity:9 Date Requested:2024-04-05\n"
     ]
    }
   ],
   "source": [
    "#This has already been run so it is already created\n",
    "#Must change the FB_REQ_ID in order for it to be a new insert and it will not give an error\n",
    "#OR just comment this out after running once to see it in the list of fb_donation_requests without error\n",
    "fb_donation_request.create(FB_REQ_ID=13369, DO_ID=52309, FB_ID=18607, item=\"pineapples\", quantity = 9, status=\"pending\", date_requested=\"2024-04-05\")\n",
    "\n",
    "#This is to make sure that the item is create\n",
    "#It will be visible in the list of fb_donation_request after it has been successfully created above\n",
    "query = (fb_donation_request\n",
    "         .select()\n",
    "         .join(foodbank, on=fb_donation_request.FB_ID == foodbank.FB_ID)\n",
    "         .join(donor, on=fb_donation_request.DO_ID == donor.DO_ID))\n",
    "for q in query:\n",
    "    print (\"Food Bank Name:{} Donor Name:{} Item:{} Quantity:{} Date Requested:{}\".format(q.FB_ID.name_of_org, q.DO_ID.name_of_org, q.item, q.quantity, q.date_requested))"
   ]
  },
  {
   "cell_type": "markdown",
   "metadata": {},
   "source": [
    "9. View donation requests made by donors. (HIGH) - READ"
   ]
  },
  {
   "cell_type": "code",
   "execution_count": 15,
   "metadata": {},
   "outputs": [
    {
     "name": "stdout",
     "output_type": "stream",
     "text": [
      "Food Bank Name:Nunc PC Donor Name:Turpis Ltd Item:hats Quantity:5 Date Requested:2023-11-26\n",
      "Food Bank Name:Est Mollis Industries Donor Name:Turpis Ltd Item:oranges Quantity:9 Date Requested:2024-02-01\n"
     ]
    }
   ],
   "source": [
    "#displays list of all donation requests made by donors\n",
    "query = (do_donation_request\n",
    "         .select()\n",
    "         .join(foodbank, on=do_donation_request.FB_ID == foodbank.FB_ID)\n",
    "         .join(donor, on=do_donation_request.DO_ID == donor.DO_ID))\n",
    "for q in query:\n",
    "    print (\"Food Bank Name:{} Donor Name:{} Item:{} Quantity:{} Date Requested:{}\".format(q.FB_ID.name_of_org, q.DO_ID.name_of_org, q.item, q.quantity, q.date_requested))"
   ]
  },
  {
   "cell_type": "markdown",
   "metadata": {},
   "source": [
    "10. View details of a donation requests from a specific donor. (HIGH) - READ"
   ]
  },
  {
   "cell_type": "code",
   "execution_count": 16,
   "metadata": {},
   "outputs": [
    {
     "name": "stdout",
     "output_type": "stream",
     "text": [
      "Food Bank Name:Nunc PC Donor Name:Turpis Ltd Item:hats Quantity:5 Date Requested:2023-11-26\n",
      "Food Bank Name:Est Mollis Industries Donor Name:Turpis Ltd Item:oranges Quantity:9 Date Requested:2024-02-01\n"
     ]
    }
   ],
   "source": [
    "#same as the above query, except this is requets made by a specific donor\n",
    "query = (do_donation_request\n",
    "         .select()\n",
    "         .join(foodbank, on=do_donation_request.FB_ID == foodbank.FB_ID)\n",
    "         .join(donor, on=do_donation_request.DO_ID == donor.DO_ID)\n",
    "         .where (donor.name_of_org== 'Turpis Ltd'))\n",
    "for q in query:\n",
    "    print (\"Food Bank Name:{} Donor Name:{} Item:{} Quantity:{} Date Requested:{}\".format(q.FB_ID.name_of_org, q.DO_ID.name_of_org, q.item, q.quantity, q.date_requested))"
   ]
  },
  {
   "cell_type": "markdown",
   "metadata": {},
   "source": [
    "11. View personal information of a specific donor. (HIGH) - READ"
   ]
  },
  {
   "cell_type": "code",
   "execution_count": 17,
   "metadata": {},
   "outputs": [
    {
     "name": "stdout",
     "output_type": "stream",
     "text": [
      "Name of Organization:Mollis Nec LLC Type of Organization:Individual Primary Contact Name:Angelica Barnes Subscribed:True City:Los Angeles State:CA Zip:90001\n"
     ]
    }
   ],
   "source": [
    "query = (donor\n",
    "         .select(donor.name_of_org, donor.type_of_org, donor.primary_contact_name, donor.subscribed, donor.city, donor.state, donor.zip)\n",
    "         .where(donor.name_of_org == 'Mollis Nec LLC'))\n",
    "\n",
    "# Loop through the results and print them\n",
    "for q in query:\n",
    "    print(\"Name of Organization:{} Type of Organization:{} Primary Contact Name:{} Subscribed:{} City:{} State:{} Zip:{}\".format(q.name_of_org, q.type_of_org, q.primary_contact_name, q.subscribed, q.city, q.state, q.zip))\n",
    "    \n"
   ]
  },
  {
   "cell_type": "markdown",
   "metadata": {},
   "source": [
    "12. Edit personal information. (HIGH) - UPDATE"
   ]
  },
  {
   "cell_type": "code",
   "execution_count": 18,
   "metadata": {},
   "outputs": [
    {
     "name": "stdout",
     "output_type": "stream",
     "text": [
      "Name of Organization:The Life of Pedro Type of Organization:Individual Primary Contact Name:Pedro Luis Subscribed:True City:Houston State:TX Zip:90001\n"
     ]
    }
   ],
   "source": [
    "# Execute the update query\n",
    "query = donor.update(\n",
    "    address='2576 Blackberry Ridge Blvd',\n",
    "    phone_num='865-990-8786',\n",
    "    primary_contact_name='Pedro Luis',\n",
    "    email='pedro@gmail,com',\n",
    "    name_of_org='The Life of Pedro',\n",
    "    type_of_org='Individual',\n",
    "    city='Houston',\n",
    "    state='TX',\n",
    "    zip='90001'\n",
    ").where(donor.DO_ID == '36580')\n",
    "\n",
    "# Execute the query\n",
    "query.execute()\n",
    "\n",
    "#to check if the update occurred\n",
    "query = (donor.select()\n",
    "         .where(donor.DO_ID==36580))\n",
    "for q in query:\n",
    "    print(\"Name of Organization:{} Type of Organization:{} Primary Contact Name:{} Subscribed:{} City:{} State:{} Zip:{}\".format(q.name_of_org, q.type_of_org, q.primary_contact_name, q.subscribed, q.city, q.state, q.zip))"
   ]
  },
  {
   "cell_type": "markdown",
   "metadata": {},
   "source": [
    "13. Search for details of all documents. (HIGH) - READ"
   ]
  },
  {
   "cell_type": "code",
   "execution_count": 19,
   "metadata": {},
   "outputs": [
    {
     "name": "stdout",
     "output_type": "stream",
     "text": [
      "DOC_ID:32128 FB_ID:None DO_ID:55214 Type of Documentation:Finances Date Obtained:2029-05-08 Date Valid:2023-06-23\n",
      "DOC_ID:69644 FB_ID:44204 DO_ID:None Type of Documentation:Licenses Date Obtained:2027-06-21 Date Valid:2024-07-08\n",
      "DOC_ID:25464 FB_ID:None DO_ID:79989 Type of Documentation:Quality Assurance Date Obtained:2033-07-13 Date Valid:2024-09-18\n",
      "DOC_ID:70638 FB_ID:31557 DO_ID:None Type of Documentation:Licenses Date Obtained:2026-04-30 Date Valid:2023-11-24\n",
      "DOC_ID:56902 FB_ID:None DO_ID:93180 Type of Documentation:Quality Assurance Date Obtained:2027-04-14 Date Valid:2023-06-17\n",
      "DOC_ID:13906 FB_ID:60551 DO_ID:None Type of Documentation:Licenses Date Obtained:2033-06-19 Date Valid:2024-02-20\n",
      "DOC_ID:65680 FB_ID:None DO_ID:85314 Type of Documentation:Finances Date Obtained:2025-10-11 Date Valid:2023-09-14\n",
      "DOC_ID:11174 FB_ID:18607 DO_ID:None Type of Documentation:Licenses Date Obtained:2029-01-08 Date Valid:2024-08-14\n",
      "DOC_ID:66381 FB_ID:None DO_ID:52309 Type of Documentation:Quality Assurance Date Obtained:2028-04-24 Date Valid:2023-10-23\n",
      "DOC_ID:28244 FB_ID:90226 DO_ID:None Type of Documentation:Finances Date Obtained:2024-09-02 Date Valid:2025-01-07\n",
      "DOC_ID:66388 FB_ID:None DO_ID:55214 Type of Documentation:Quality Assurance Date Obtained:2028-04-24 Date Valid:2023-10-23\n",
      "DOC_ID:33331 FB_ID:84134 DO_ID:55214 Type of Documentation:Registration Date Obtained:2025-09-09 Date Valid:2023-04-21\n"
     ]
    }
   ],
   "source": [
    "query = (documentation\n",
    "         .select(documentation.DOC_ID, documentation.FB_ID, documentation.DO_ID, documentation.type_of_documentation, documentation.date_obtained, documentation.date_valid))\n",
    "\n",
    "# Loop through the results and print them\n",
    "for q in query:\n",
    "    print(\"DOC_ID:{} FB_ID:{} DO_ID:{} Type of Documentation:{} Date Obtained:{} Date Valid:{}\".format(q.DOC_ID, q.FB_ID, q.DO_ID, q.type_of_documentation, q.date_obtained, q.date_valid))\n"
   ]
  },
  {
   "cell_type": "markdown",
   "metadata": {},
   "source": [
    "14. Search for food banks in the area (filter by state/ city/ zip code). (HIGH) - READ"
   ]
  },
  {
   "cell_type": "code",
   "execution_count": 20,
   "metadata": {},
   "outputs": [
    {
     "name": "stdout",
     "output_type": "stream",
     "text": [
      " Food Bank Phone Number: (495) 487-2527 Food Bank Primary Contact Person:Omar Compton Food Bank Address:P.O. Box 394, 9121 Adipiscing Rd. Food Bank City: Los Angeles Food Bank State: CA Food Bank Zip Code: 90001 Food Bank Email:tristique.senectus@outlook.couk Date Joined:2025-03-23\n"
     ]
    }
   ],
   "source": [
    "#Filter by city\n",
    "query = (foodbank\n",
    "         .select()\n",
    "         .where (foodbank.city=='Los Angeles'))\n",
    "for q in query:\n",
    "    print (\" Food Bank Phone Number: {} Food Bank Primary Contact Person:{} Food Bank Address:{} Food Bank City: {} Food Bank State: {} Food Bank Zip Code: {} Food Bank Email:{} Date Joined:{}\".format(q.phone_num, q.primary_contact_name, q.address,q.city, q.state, q.zip, q.email, q.date_joined))"
   ]
  },
  {
   "cell_type": "code",
   "execution_count": 21,
   "metadata": {},
   "outputs": [
    {
     "name": "stdout",
     "output_type": "stream",
     "text": [
      " Food Bank Phone Number: 1-975-967-4234 Food Bank Primary Contact Person:Savannah Brennan Food Bank Address:891-8625 Eleifend Street Food Bank City: Houston Food Bank State: TX Food Bank Zip Code: 77001 Food Bank Email:sed.libero.proin@aol.edu Date Joined:2023-11-30\n",
      " Food Bank Phone Number: (777) 451-0807 Food Bank Primary Contact Person:Sonia Petty Food Bank Address:685-5050 Etiam Ave Food Bank City: San Antonio Food Bank State: TX Food Bank Zip Code: 78201 Food Bank Email:nec.metus@google.couk Date Joined:2023-08-18\n",
      " Food Bank Phone Number: 1-446-684-2218 Food Bank Primary Contact Person:Valentine Figueroa Food Bank Address:P.O. Box 650, 4463 Feugiat Road Food Bank City: Dallas Food Bank State: TX Food Bank Zip Code: 75201 Food Bank Email:ornare.facilisis@protonmail.edu Date Joined:2023-09-25\n"
     ]
    }
   ],
   "source": [
    "#Filter by state\n",
    "query = (foodbank\n",
    "         .select()\n",
    "         .where (foodbank.state=='TX'))\n",
    "for q in query:\n",
    "    print (\" Food Bank Phone Number: {} Food Bank Primary Contact Person:{} Food Bank Address:{} Food Bank City: {} Food Bank State: {} Food Bank Zip Code: {} Food Bank Email:{} Date Joined:{}\".format(q.phone_num, q.primary_contact_name, q.address,q.city, q.state, q.zip, q.email, q.date_joined))"
   ]
  },
  {
   "cell_type": "code",
   "execution_count": 22,
   "metadata": {},
   "outputs": [
    {
     "name": "stdout",
     "output_type": "stream",
     "text": [
      " Food Bank Phone Number: (305) 451-8544 Food Bank Primary Contact Person:Ciara Hopper Food Bank Address:8525 Praesent Road Food Bank City: Chicago Food Bank State: IL Food Bank Zip Code: 60601 Food Bank Email:rutrum@icloud.com Date Joined:2023-10-31\n"
     ]
    }
   ],
   "source": [
    "#Filter by zip code\n",
    "query = (foodbank\n",
    "         .select()\n",
    "         .where (foodbank.zip=='60601'))\n",
    "for q in query:\n",
    "    print (\" Food Bank Phone Number: {} Food Bank Primary Contact Person:{} Food Bank Address:{} Food Bank City: {} Food Bank State: {} Food Bank Zip Code: {} Food Bank Email:{} Date Joined:{}\".format(q.phone_num, q.primary_contact_name, q.address,q.city, q.state, q.zip, q.email, q.date_joined))"
   ]
  },
  {
   "cell_type": "markdown",
   "metadata": {},
   "source": [
    "15. View details of all food banks. (HIGH) - READ"
   ]
  },
  {
   "cell_type": "code",
   "execution_count": 23,
   "metadata": {},
   "outputs": [
    {
     "name": "stdout",
     "output_type": "stream",
     "text": [
      "FB_ID:84134 Username:fb_user84134 Name of Organization:Dictum Limited Address:1721 Nascetur Av. Phone Number:(805) 811-5218 Primary Contact Name:Gavin Olsen Email:curabitur.sed@google.edu Date Joined:2024-04-13\n",
      "FB_ID:44204 Username:fb_user44204 Name of Organization:Nunc PC Address:P.O. Box 394, 9121 Adipiscing Rd. Phone Number:(495) 487-2527 Primary Contact Name:Omar Compton Email:tristique.senectus@outlook.couk Date Joined:2025-03-23\n",
      "FB_ID:14789 Username:fb_user14789 Name of Organization:Libero Est LLP Address:8525 Praesent Road Phone Number:(305) 451-8544 Primary Contact Name:Ciara Hopper Email:rutrum@icloud.com Date Joined:2023-10-31\n",
      "FB_ID:90226 Username:fb_user90226 Name of Organization:Arcu Incorporated Address:891-8625 Eleifend Street Phone Number:1-975-967-4234 Primary Contact Name:Savannah Brennan Email:sed.libero.proin@aol.edu Date Joined:2023-11-30\n",
      "FB_ID:95899 Username:fb_user95899 Name of Organization:Lacus Ut Ltd Address:851-4808 Viverra. Avenue Phone Number:(628) 573-3280 Primary Contact Name:Eaton Cote Email:nulla.integer@yahoo.couk Date Joined:2023-07-30\n",
      "FB_ID:49917 Username:fb_user49917 Name of Organization:Nullam Suscipit Est Company Address:478-8401 Lorem, Rd. Phone Number:(691) 589-7369 Primary Contact Name:Preston Melton Email:nec@google.org Date Joined:2023-12-24\n",
      "FB_ID:60551 Username:fb_user60551 Name of Organization:Eu Eleifend Corporation Address:685-5050 Etiam Ave Phone Number:(777) 451-0807 Primary Contact Name:Sonia Petty Email:nec.metus@google.couk Date Joined:2023-08-18\n",
      "FB_ID:71474 Username:fb_user71474 Name of Organization:Ligula Tortor Limited Address:945-2142 Mauris Av. Phone Number:1-921-357-7113 Primary Contact Name:Pandora Landry Email:sapien.cursus@hotmail.edu Date Joined:2024-09-30\n",
      "FB_ID:31557 Username:fb_user58335 Name of Organization:Molestie Tortor PC Address:P.O. Box 650, 4463 Feugiat Road Phone Number:1-446-684-2218 Primary Contact Name:Valentine Figueroa Email:ornare.facilisis@protonmail.edu Date Joined:2023-09-25\n",
      "FB_ID:18607 Username:fb_user85300 Name of Organization:Est Mollis Industries Address:594-8395 Est St. Phone Number:(528) 516-5768 Primary Contact Name:Kaitlin Serrano Email:nonummy.ultricies@outlook.net Date Joined:2023-11-24\n",
      "FB_ID:84890 Username:fb_user84890 Name of Organization:Creative Limited Address:1721 Oliver Av. Phone Number:(805) 855-8902 Primary Contact Name:Anna Luis Email:lame.email@google.org Date Joined:2024-03-23\n"
     ]
    }
   ],
   "source": [
    "query = (foodbank.select(foodbank.FB_ID, foodbank.username, foodbank.name_of_org, foodbank.address, foodbank.phone_num, foodbank.primary_contact_name, foodbank.email, foodbank.date_joined))\n",
    "\n",
    "# Loop through the results and print them\n",
    "for q in query:\n",
    "    print(\"FB_ID:{} Username:{} Name of Organization:{} Address:{} Phone Number:{} Primary Contact Name:{} Email:{} Date Joined:{}\".format(q.FB_ID, q.username, q.name_of_org, q.address, q.phone_num, q.primary_contact_name, q.email, q.date_joined))\n"
   ]
  },
  {
   "cell_type": "markdown",
   "metadata": {},
   "source": [
    "16. Request to donate by filling out a form. (HIGH) - CREATE"
   ]
  },
  {
   "cell_type": "code",
   "execution_count": 24,
   "metadata": {},
   "outputs": [
    {
     "name": "stdout",
     "output_type": "stream",
     "text": [
      "Food Bank Name:Nunc PC Donor Name:Turpis Ltd Item:hats Quantity:5 Date Requested:2023-11-26\n",
      "Food Bank Name:Est Mollis Industries Donor Name:Turpis Ltd Item:oranges Quantity:9 Date Requested:2024-02-01\n",
      "Food Bank Name:Est Mollis Industries Donor Name:Hendrerit Consectetuer Cursus PC Item:melons Quantity:9 Date Requested:2024-04-05\n"
     ]
    }
   ],
   "source": [
    "#This has already been run so it is already created\n",
    "#Must change the DO_REQ_ID in order for it to be a new insert and it will not give an error\n",
    "#OR just comment this part out after running once so it does not give error and result can be seen on the list of do_donation_requests\n",
    "do_donation_request.create(DO_REQ_ID=13335, DO_ID=52309, FB_ID=18607, item=\"melons\", quantity = 9, status=\"pending\", date_requested=\"2024-04-05\")\n",
    "\n",
    "#This is to make sure that the item is create\n",
    "#It will be visible in the list of do_donation_requests after it has been successfully created above\n",
    "query = (do_donation_request\n",
    "         .select()\n",
    "         .join(foodbank, on=do_donation_request.FB_ID == foodbank.FB_ID)\n",
    "         .join(donor, on=do_donation_request.DO_ID == donor.DO_ID))\n",
    "for q in query:\n",
    "    print (\"Food Bank Name:{} Donor Name:{} Item:{} Quantity:{} Date Requested:{}\".format(q.FB_ID.name_of_org, q.DO_ID.name_of_org, q.item, q.quantity, q.date_requested))\n"
   ]
  },
  {
   "cell_type": "markdown",
   "metadata": {},
   "source": [
    "17. Accept/decline to make a donation (foodbanks can ask donors who have donated before to donate again). (HIGH) - UPDATE"
   ]
  },
  {
   "cell_type": "code",
   "execution_count": 25,
   "metadata": {},
   "outputs": [
    {
     "name": "stdout",
     "output_type": "stream",
     "text": [
      "FB_REQ_ID: 0 Food Bank ID: 84134 Donor ID: 36580 Date Requested: 2021-12-01 Status: pending\n"
     ]
    },
    {
     "data": {
      "text/plain": [
       "1"
      ]
     },
     "execution_count": 25,
     "metadata": {},
     "output_type": "execute_result"
    }
   ],
   "source": [
    "#If a request was accepted by a donor\n",
    "row=fb_donation_request.get(fb_donation_request.FB_REQ_ID == 00000)\n",
    "print (\"FB_REQ_ID: {} Food Bank ID: {} Donor ID: {} Date Requested: {} Status: {}\".format(row.FB_REQ_ID, row.FB_ID, row.DO_ID, row.date_requested, row.status))\n",
    "row.status = \"accepted\"\n",
    "row.save()\n"
   ]
  },
  {
   "cell_type": "code",
   "execution_count": 26,
   "metadata": {},
   "outputs": [
    {
     "name": "stdout",
     "output_type": "stream",
     "text": [
      "FB_REQ_ID: 0 Food Bank ID: 84134 Donor ID: 36580 Date Requested: 2021-12-01 Status: accepted\n"
     ]
    },
    {
     "data": {
      "text/plain": [
       "1"
      ]
     },
     "execution_count": 26,
     "metadata": {},
     "output_type": "execute_result"
    }
   ],
   "source": [
    "#If a request was declined by a donor\n",
    "row=fb_donation_request.get(fb_donation_request.FB_REQ_ID == 00000)\n",
    "print (\"FB_REQ_ID: {} Food Bank ID: {} Donor ID: {} Date Requested: {} Status: {}\".format(row.FB_REQ_ID, row.FB_ID, row.DO_ID, row.date_requested, row.status))\n",
    "row.status = \"declined\"\n",
    "row.save()"
   ]
  },
  {
   "cell_type": "markdown",
   "metadata": {},
   "source": [
    "18. View donation requests from food banks. (HIGH) - READ"
   ]
  },
  {
   "cell_type": "code",
   "execution_count": 27,
   "metadata": {},
   "outputs": [
    {
     "name": "stdout",
     "output_type": "stream",
     "text": [
      "Food Bank Name:Libero Est LLP Donor Name:The Life of Pedro Item:apples Quantity:50 Date Requested:2022-11-01\n",
      "Food Bank Name:Est Mollis Industries Donor Name:Hendrerit Consectetuer Cursus PC Item:pineapples Quantity:9 Date Requested:2024-04-05\n",
      "Food Bank Name:Dictum Limited Donor Name:The Life of Pedro Item:shoes Quantity:3 Date Requested:2021-12-01\n"
     ]
    }
   ],
   "source": [
    "#This shows the records in in the fb_donation_request, which are all requests made by food banks to a specfic past donor\n",
    "#It displays the name of the food bank, the donor they requested donations from, the item, quantity, and when they requested\n",
    "query = (fb_donation_request\n",
    "         .select()\n",
    "         .join(foodbank, on=fb_donation_request.FB_ID == foodbank.FB_ID)\n",
    "         .join(donor, on=fb_donation_request.DO_ID == donor.DO_ID))\n",
    "for q in query:\n",
    "    print (\"Food Bank Name:{} Donor Name:{} Item:{} Quantity:{} Date Requested:{}\".format(q.FB_ID.name_of_org, q.DO_ID.name_of_org, q.item, q.quantity, q.date_requested))"
   ]
  },
  {
   "cell_type": "markdown",
   "metadata": {},
   "source": [
    "19. View details of a donation requested by a food bank. (HIGH) - READ"
   ]
  },
  {
   "cell_type": "code",
   "execution_count": 28,
   "metadata": {},
   "outputs": [
    {
     "name": "stdout",
     "output_type": "stream",
     "text": [
      "Food Bank Name:Dictum Limited Donor Name:The Life of Pedro Item:shoes Quantity:3 Date Requested:2021-12-01\n"
     ]
    }
   ],
   "source": [
    "#This shows the details of a specifc donation request that was made by a food bank to a donor\n",
    "#This is similar to the previous one, except it has a where condition as it is seraching for donation request from a specifc food bank\n",
    "query = (fb_donation_request\n",
    "         .select()\n",
    "         .join(foodbank, on=fb_donation_request.FB_ID == foodbank.FB_ID)\n",
    "         .join(donor, on=fb_donation_request.DO_ID == donor.DO_ID)\n",
    "         .where (foodbank.name_of_org == 'Dictum Limited'))\n",
    "for q in query:\n",
    "    print (\"Food Bank Name:{} Donor Name:{} Item:{} Quantity:{} Date Requested:{}\".format(q.FB_ID.name_of_org, q.DO_ID.name_of_org, q.item, q.quantity, q.date_requested))"
   ]
  },
  {
   "cell_type": "markdown",
   "metadata": {},
   "source": [
    "5. View personal information of all donors. (HIGH) - READ"
   ]
  },
  {
   "cell_type": "code",
   "execution_count": 29,
   "metadata": {},
   "outputs": [],
   "source": [
    "#donor information\n",
    "rows=donor.select()\n",
    "for row in rows:\n",
    "   print (\"Name of Org: {} Type of Org: {} Primary Contact Name: {} Subscribed: {} City: {} State: {} Zip: {}\".format(row.name_of_org, row.type_of_org, row.primary_contact_name, row.subscribed, row.city, row.state, row.zip))\n"
   ]
  },
  {
   "cell_type": "code",
   "execution_count": 35,
   "metadata": {},
   "outputs": [
    {
     "name": "stdout",
     "output_type": "stream",
     "text": [
      "Donor Name:Turpis Ltd DOC name:Finances\n",
      "Donor Name:Turpis Ltd DOC name:Quality Assurance\n",
      "Donor Name:Turpis Ltd DOC name:Registration\n"
     ]
    }
   ],
   "source": [
    "query = (documentation\n",
    "         .select()\n",
    "         .join(donor, on=documentation.DO_ID==donor.DO_ID)\n",
    "         .where(donor.DO_ID==55214))\n",
    "for q in query:\n",
    "    print (\"Donor Name:{} DOC name:{}\".format(q.DO_ID.name_of_org, q.type_of_documentation))\n"
   ]
  }
 ],
 "metadata": {
  "kernelspec": {
   "display_name": "Python 3",
   "language": "python",
   "name": "python3"
  },
  "language_info": {
   "codemirror_mode": {
    "name": "ipython",
    "version": 3
   },
   "file_extension": ".py",
   "mimetype": "text/x-python",
   "name": "python",
   "nbconvert_exporter": "python",
   "pygments_lexer": "ipython3",
   "version": "3.10.13"
  }
 },
 "nbformat": 4,
 "nbformat_minor": 2
}
